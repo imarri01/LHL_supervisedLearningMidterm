{
 "cells": [
  {
   "cell_type": "markdown",
   "metadata": {},
   "source": [
    "***Imports***"
   ]
  },
  {
   "cell_type": "code",
   "execution_count": 1,
   "metadata": {},
   "outputs": [],
   "source": [
    "import numpy as np\n",
    "import pandas as pd\n",
    "import warnings\n",
    "\n",
    "from sklearn.model_selection import train_test_split, KFold, cross_val_score, GridSearchCV\n",
    "from sklearn.metrics import mean_squared_error, mean_absolute_error, r2_score\n",
    "from sklearn.model_selection import ParameterGrid\n",
    "\n",
    "from sklearn.preprocessing import OneHotEncoder, StandardScaler\n",
    "from sklearn.model_selection import GridSearchCV\n",
    "\n",
    "\n",
    "from sklearn.pipeline import Pipeline\n",
    "from sklearn.compose import ColumnTransformer\n",
    "from sklearn.impute import SimpleImputer\n",
    "\n",
    "from sklearn.tree import DecisionTreeRegressor\n",
    "from sklearn.ensemble import RandomForestRegressor\n",
    "\n",
    "import functions_variables as fv\n",
    "import joblib\n",
    "\n",
    "import matplotlib.pyplot as plt\n",
    "import seaborn as sns\n",
    "\n",
    "# Disable all warnings\n",
    "warnings.filterwarnings('ignore')"
   ]
  },
  {
   "cell_type": "markdown",
   "metadata": {},
   "source": [
    "***Importing Data***"
   ]
  },
  {
   "cell_type": "code",
   "execution_count": 2,
   "metadata": {},
   "outputs": [],
   "source": [
    "X_train = pd.read_csv('../data/training/X_train_v2.csv')\n",
    "X_validate = pd.read_csv('../data/training/X_validation.csv')\n",
    "y_train = pd.read_csv('../data/training/y_train_v2.csv')\n",
    "y_validate = pd.read_csv('../data/training/y_validatione.csv')"
   ]
  },
  {
   "cell_type": "markdown",
   "metadata": {},
   "source": [
    "# **Hyperparameter Tuning**"
   ]
  },
  {
   "cell_type": "code",
   "execution_count": 3,
   "metadata": {},
   "outputs": [],
   "source": [
    "# Add training data together\n",
    "\n",
    "training_data = pd.concat([X_train, y_train], axis=1)\n",
    "\n",
    "# Perform custom cross-validation - Function included in Function_variables.py\n",
    "\n",
    "training_folds, validation_folds = fv.custom_cross_validation(training_data, n_splits=5)"
   ]
  },
  {
   "cell_type": "markdown",
   "metadata": {},
   "source": [
    "***Hyperparameter Testing Function***"
   ]
  },
  {
   "cell_type": "markdown",
   "metadata": {},
   "source": [
    "***Decision Tree Hyperparameter Testing***"
   ]
  },
  {
   "cell_type": "code",
   "execution_count": 5,
   "metadata": {},
   "outputs": [
    {
     "name": "stdout",
     "output_type": "stream",
     "text": [
      "Best Parameters: {'max_depth': None, 'min_samples_leaf': 1, 'min_samples_split': 2}\n",
      "Best Score: 6684026380.854773\n"
     ]
    }
   ],
   "source": [
    "param_grid = {\n",
    "    'max_depth': [None, 10, 20, 30, 40],\n",
    "    'min_samples_split': [2, 5, 10],\n",
    "    'min_samples_leaf': [1, 2, 4]\n",
    "}\n",
    "\n",
    "\n",
    "# Perform hyperparameter_search - Function included in Function_variables.py\n",
    "\n",
    "best_params, best_score = fv.hyperparameter_search(training_folds, validation_folds,\n",
    "                                                param_grid, 'decision_tree')\n",
    "print(\"Best Parameters:\", best_params)\n",
    "print(\"Best Score:\", best_score)"
   ]
  },
  {
   "cell_type": "markdown",
   "metadata": {},
   "source": [
    "***Saving Final Model***"
   ]
  },
  {
   "cell_type": "code",
   "execution_count": 6,
   "metadata": {},
   "outputs": [
    {
     "data": {
      "text/plain": [
       "['../models/test_models/final_decision_tree_model.pkl']"
      ]
     },
     "execution_count": 6,
     "metadata": {},
     "output_type": "execute_result"
    }
   ],
   "source": [
    "# Train the final model using the best hyperparameters\n",
    "\n",
    "final_model = DecisionTreeRegressor(**best_params, random_state=42)\n",
    "final_model.fit(X_train, y_train)\n",
    "\n",
    "# Save the final model\n",
    "\n",
    "joblib.dump(final_model, '../models/test_models/final_decision_tree_model.pkl')"
   ]
  },
  {
   "cell_type": "markdown",
   "metadata": {},
   "source": [
    "***Random Forest Hyperparameter Testing***"
   ]
  },
  {
   "cell_type": "code",
   "execution_count": 7,
   "metadata": {},
   "outputs": [
    {
     "name": "stdout",
     "output_type": "stream",
     "text": [
      "Best Parameters: {'max_depth': 20, 'min_samples_leaf': 1, 'min_samples_split': 2, 'n_estimators': 200}\n",
      "Best Score: 20148153270.871227\n"
     ]
    }
   ],
   "source": [
    "param_grid = {\n",
    "    'n_estimators': [100, 200],\n",
    "    'max_depth': [None, 10, 20],\n",
    "    'min_samples_split': [2, 5, 10],\n",
    "    'min_samples_leaf': [1, 2, 4]\n",
    "}\n",
    "\n",
    "\n",
    "# Perform hyperparameter_search - Function included in Function_variables.py\n",
    "\n",
    "best_params, best_score = fv.hyperparameter_search(training_folds, validation_folds,\n",
    "                                                param_grid, 'random_forest')\n",
    "print(\"Best Parameters:\", best_params)\n",
    "print(\"Best Score:\", best_score)"
   ]
  },
  {
   "cell_type": "markdown",
   "metadata": {},
   "source": [
    "***Saving Final Model***"
   ]
  },
  {
   "cell_type": "code",
   "execution_count": 8,
   "metadata": {},
   "outputs": [
    {
     "data": {
      "text/plain": [
       "['../models/best-model/final_random_forest_model_v2.pkl']"
      ]
     },
     "execution_count": 8,
     "metadata": {},
     "output_type": "execute_result"
    }
   ],
   "source": [
    "# Train the final model using the best hyperparameters\n",
    "\n",
    "final_model = RandomForestRegressor(**best_params, random_state=42)\n",
    "final_model.fit(X_train, y_train)\n",
    "\n",
    "# Save the final model\n",
    "\n",
    "joblib.dump(final_model, '../models/test_models/final_random_forest_model.pkl')"
   ]
  },
  {
   "cell_type": "markdown",
   "metadata": {},
   "source": [
    "# **Comparing between Decision Tree and Random Forest**"
   ]
  },
  {
   "cell_type": "markdown",
   "metadata": {},
   "source": [
    "##### ***Decision Tree Test***"
   ]
  },
  {
   "cell_type": "code",
   "execution_count": 9,
   "metadata": {},
   "outputs": [
    {
     "name": "stdout",
     "output_type": "stream",
     "text": [
      "Test Set Performance: MSE = 6193112904.076359, MAE = 8933.185677371725, R^2 = 0.9863882425065167\n"
     ]
    }
   ],
   "source": [
    "decision_tree_model = joblib.load('../models/test_model/final_decision_tree_model.pkl')\n",
    "\n",
    "decision_tree_model.fit(X_train, y_train)\n",
    "\n",
    "y_pred = decision_tree_model.predict(X_validate)\n",
    "\n",
    "mse = mean_squared_error(y_validate, y_pred)\n",
    "mae = mean_absolute_error(y_validate, y_pred)\n",
    "r2 = r2_score(y_validate, y_pred)\n",
    "\n",
    "print(f\"Test Set Performance: MSE = {mse}, MAE = {mae}, R^2 = {r2}\")"
   ]
  },
  {
   "cell_type": "markdown",
   "metadata": {},
   "source": [
    "##### ***Random Forest Test***\n"
   ]
  },
  {
   "cell_type": "code",
   "execution_count": 10,
   "metadata": {},
   "outputs": [
    {
     "name": "stdout",
     "output_type": "stream",
     "text": [
      "Test Set Performance: MSE = 7214407643.637923, MAE = 24113.28484535849, R^2 = 0.9841435528747272\n"
     ]
    }
   ],
   "source": [
    "random_forest_model = joblib.load('../models/test_model/final_random_forest_model.pkl')\n",
    "\n",
    "random_forest_model.fit(X_train, y_train)\n",
    "\n",
    "y_pred = random_forest_model.predict(X_validate)\n",
    "\n",
    "mse = mean_squared_error(y_validate, y_pred)\n",
    "mae = mean_absolute_error(y_validate, y_pred)\n",
    "r2 = r2_score(y_validate, y_pred)\n",
    "\n",
    "print(f\"Test Set Performance: MSE = {mse}, MAE = {mae}, R^2 = {r2}\")"
   ]
  },
  {
   "cell_type": "markdown",
   "metadata": {},
   "source": [
    "### **Model Performance Comparison**\n",
    "\n",
    "#### ***Performance Metrics***\n",
    "\n",
    "| Metric                 | Decision Tree                       | Random Forest                         |\n",
    "|------------------------|-----------------------------------------------|----------------------------------------------|\n",
    "| **Parameters**         | `max_depth`: None, `min_samples_leaf`: 1, `min_samples_split`: 2 | `max_depth`: 20, `min_samples_leaf`: 1, `min_samples_split`: 2, `n_estimators`: 200 |\n",
    "| **Mean Squared Error** (MSE) | 6,193,112,904.08                         | 7,214,407,643.64                             |\n",
    "| **Mean Absolute Error** (MAE) | 8,933.19                                 | 24,113.28                                    |\n",
    "| **R² Score**           | 0.9864                                        | 0.9841                                       |\n",
    "\n",
    "#### ***Summary***\n",
    "\n",
    "The table above compares the best tunned decision tree model and random forest model:\n",
    "\n",
    "- **Parameters Comparisons:**\n",
    "  - The random forest model has the `n_estimators` parameter\n",
    "  - They both share the best parameters for the `min_samples_leaf` and `min_samples_splits`\n",
    "  - Decision tree has the `max depth` of None while random forest has the max depth of 20\n",
    "  \n",
    "- **Performance Comparisons:**\n",
    "  - **MSE** The decision tree has has the lower MSE.\n",
    "  - **MAE** The decision tree has a significant lower difference in MAE score\n",
    "  - **R²** The decision tree has a higher r2.\n",
    "\n",
    "This indicates that overall the decision tree model is the best model compared to the random forest model. The decision tree will be used for the final model."
   ]
  },
  {
   "cell_type": "markdown",
   "metadata": {},
   "source": [
    "# **Feature Importance**"
   ]
  },
  {
   "cell_type": "markdown",
   "metadata": {},
   "source": [
    "The purpose of this section is to inspect the most important features of the chosen model in order to later test to check if we can get an improved model"
   ]
  },
  {
   "cell_type": "code",
   "execution_count": 11,
   "metadata": {},
   "outputs": [
    {
     "data": {
      "image/png": "[encoded data removed]",
      "text/plain": [
       "<Figure size 1200x800 with 1 Axes>"
      ]
     },
     "metadata": {},
     "output_type": "display_data"
    }
   ],
   "source": [
    "feature_importances = decision_tree_model.feature_importances_\n",
    "features = X_train.columns\n",
    "\n",
    "\n",
    "# Create a DataFrame for feature importances\n",
    "\n",
    "importance_df = pd.DataFrame({'Feature': features, 'Importance': feature_importances})\n",
    "importance_df = importance_df.sort_values(by='Importance', ascending=False).head(10)\n",
    "\n",
    "\n",
    "# Plot feature importances\n",
    "\n",
    "plt.figure(figsize=(12, 8))\n",
    "plt.barh(importance_df['Feature'], importance_df['Importance'], color='skyblue')\n",
    "plt.xlabel('Importance', fontsize=14)\n",
    "plt.ylabel('Feature', fontsize=14)\n",
    "plt.title('Top 10 Feature Importances', fontsize=16)\n",
    "plt.gca().invert_yaxis()\n",
    "\n",
    "\n",
    "# Adding grid for better readability\n",
    "\n",
    "plt.grid(True, linestyle='--', alpha=0.7)\n",
    "\n",
    "\n",
    "# Removing spines for a cleaner look\n",
    "\n",
    "plt.gca().spines['top'].set_visible(False)\n",
    "plt.gca().spines['right'].set_visible(False)\n",
    "\n",
    "plt.show()\n",
    "\n",
    "plt.savefig('../images/top_features_graph.png', format='png')"
   ]
  },
  {
   "cell_type": "markdown",
   "metadata": {},
   "source": [
    "***Note: The above chart shows `sqft` as one of the most important features. This is in alignment with the heat map generated from part 1 EDA.*** \n",
    "\n",
    "\n",
    "![heatmap](../images/correlation_heatmap_new.png)"
   ]
  },
  {
   "cell_type": "markdown",
   "metadata": {},
   "source": [
    "# **Testing Selected Features**"
   ]
  },
  {
   "cell_type": "markdown",
   "metadata": {},
   "source": [
    "This portion is to make a model using the top 10 import features shown in the previous section. Using this model we can compare with our previous model to see if feature selection is important for the preformance of our model."
   ]
  },
  {
   "cell_type": "markdown",
   "metadata": {},
   "source": [
    "***Feature Selection Model***"
   ]
  },
  {
   "cell_type": "code",
   "execution_count": 12,
   "metadata": {},
   "outputs": [
    {
     "name": "stdout",
     "output_type": "stream",
     "text": [
      "Test Set Performance: MSE = 8111175564.110226, MAE = 12319.42906361511, R^2 = 0.9821725590222867\n"
     ]
    }
   ],
   "source": [
    "# using same model from previous tuning\n",
    "\n",
    "feature_selection_model = DecisionTreeRegressor(max_depth=None,\n",
    "                                                min_samples_leaf=1,\n",
    "                                                min_samples_split=2,\n",
    "                                                random_state=42)\n",
    "\n",
    "# selecting data\n",
    "\n",
    "X_selected_train = X_train[importance_df['Feature'].tolist()]\n",
    "X_selected_validate = X_validate[importance_df['Feature'].tolist()]\n",
    "\n",
    "feature_selection_model.fit(X_selected_train, y_train)\n",
    "\n",
    "y_pred = feature_selection_model.predict(X_selected_validate)\n",
    "\n",
    "mse = mean_squared_error(y_validate, y_pred)\n",
    "mae = mean_absolute_error(y_validate, y_pred)\n",
    "r2 = r2_score(y_validate, y_pred)\n",
    "\n",
    "print(f\"Test Set Performance: MSE = {mse}, MAE = {mae}, R^2 = {r2}\")"
   ]
  },
  {
   "cell_type": "markdown",
   "metadata": {},
   "source": [
    "***Saving Model***"
   ]
  },
  {
   "cell_type": "code",
   "execution_count": null,
   "metadata": {},
   "outputs": [],
   "source": [
    "joblib.dump(final_model, '../models/test_models/feature_selection.pkl')"
   ]
  },
  {
   "cell_type": "markdown",
   "metadata": {},
   "source": [
    "### **Model Performance Comparison**\n",
    "\n",
    "#### ***Performance Metrics***\n",
    "\n",
    "| Metric                 | Original Model                       | Feature Selection Model                        |\n",
    "|------------------------|-----------------------------------------------|----------------------------------------------|\n",
    "| **Mean Squared Error** (MSE) | 6,193,112,904.08                         | 8,111,175,564.11                             |\n",
    "| **Mean Absolute Error** (MAE) | 8,933.19                                 | 12,319.43                                    |\n",
    "| **R² Score**           | 0.9864                                        | 0.9822                                       |\n",
    "\n",
    "#### ***Summary***\n",
    "\n",
    "The table above compares the original model with no data changes and a feature selection model with chosen features:\n",
    "  \n",
    "- **Performance Comparisons:**\n",
    "  - **MSE** The original model has a lower MSE score.\n",
    "  - **MAE** The original model has a significant lower difference in MAE score\n",
    "  - **R²** The original model has a higher r2.\n",
    "\n",
    "This indicates that overall the original model is the best model compared to the feature selection model. This means that we do not have to change any of our data and we can use the original model for our final pipeline."
   ]
  },
  {
   "cell_type": "markdown",
   "metadata": {},
   "source": [
    "## **Final Pipeline**"
   ]
  },
  {
   "cell_type": "markdown",
   "metadata": {},
   "source": [
    "This process encapsulates the entire workflow, including data preprocessing, model training, and prediction into a single pipeline. The pipeline is then saved to a file, which can be loaded in the future for making predictions on new data"
   ]
  },
  {
   "cell_type": "markdown",
   "metadata": {},
   "source": [
    "***Import Data***"
   ]
  },
  {
   "cell_type": "code",
   "execution_count": 13,
   "metadata": {},
   "outputs": [],
   "source": [
    "X_train = pd.read_csv('../data/training/X_train.csv')\n",
    "X_test = pd.read_csv('../data/testing/X_test.csv')\n",
    "y_train = pd.read_csv('../data/training/y_train.csv')\n",
    "y_test = pd.read_csv('../data/testing/y_test.csv')"
   ]
  },
  {
   "cell_type": "markdown",
   "metadata": {},
   "source": [
    "**Note:** We decided to use standard scaler and one hot encoding despite not using it during our model selection piece. This addition may cause changes into our model that we recognize"
   ]
  },
  {
   "cell_type": "code",
   "execution_count": 14,
   "metadata": {},
   "outputs": [],
   "source": [
    "# Define numerical and categorical features\n",
    "numerical_features = ['year_built', 'sqft', 'baths', 'stories', 'beds', 'garage']\n",
    "categorical_features = ['type', 'city']\n",
    "\n",
    "# Create a Feature Union for preprocessing\n",
    "preprocessor = ColumnTransformer(\n",
    "    transformers=[\n",
    "        ('num', StandardScaler(), numerical_features),\n",
    "        ('cat', OneHotEncoder(handle_unknown='ignore'), categorical_features)\n",
    "    ])"
   ]
  },
  {
   "cell_type": "code",
   "execution_count": 15,
   "metadata": {},
   "outputs": [
    {
     "data": {
      "text/html": [
       "<style>#sk-container-id-1 {color: black;background-color: white;}#sk-container-id-1 pre{padding: 0;}#sk-container-id-1 div.sk-toggleable {background-color: white;}#sk-container-id-1 label.sk-toggleable__label {cursor: pointer;display: block;width: 100%;margin-bottom: 0;padding: 0.3em;box-sizing: border-box;text-align: center;}#sk-container-id-1 label.sk-toggleable__label-arrow:before {content: \"▸\";float: left;margin-right: 0.25em;color: #696969;}#sk-container-id-1 label.sk-toggleable__label-arrow:hover:before {color: black;}#sk-container-id-1 div.sk-estimator:hover label.sk-toggleable__label-arrow:before {color: black;}#sk-container-id-1 div.sk-toggleable__content {max-height: 0;max-width: 0;overflow: hidden;text-align: left;background-color: #f0f8ff;}#sk-container-id-1 div.sk-toggleable__content pre {margin: 0.2em;color: black;border-radius: 0.25em;background-color: #f0f8ff;}#sk-container-id-1 input.sk-toggleable__control:checked~div.sk-toggleable__content {max-height: 200px;max-width: 100%;overflow: auto;}#sk-container-id-1 input.sk-toggleable__control:checked~label.sk-toggleable__label-arrow:before {content: \"▾\";}#sk-container-id-1 div.sk-estimator input.sk-toggleable__control:checked~label.sk-toggleable__label {background-color: #d4ebff;}#sk-container-id-1 div.sk-label input.sk-toggleable__control:checked~label.sk-toggleable__label {background-color: #d4ebff;}#sk-container-id-1 input.sk-hidden--visually {border: 0;clip: rect(1px 1px 1px 1px);clip: rect(1px, 1px, 1px, 1px);height: 1px;margin: -1px;overflow: hidden;padding: 0;position: absolute;width: 1px;}#sk-container-id-1 div.sk-estimator {font-family: monospace;background-color: #f0f8ff;border: 1px dotted black;border-radius: 0.25em;box-sizing: border-box;margin-bottom: 0.5em;}#sk-container-id-1 div.sk-estimator:hover {background-color: #d4ebff;}#sk-container-id-1 div.sk-parallel-item::after {content: \"\";width: 100%;border-bottom: 1px solid gray;flex-grow: 1;}#sk-container-id-1 div.sk-label:hover label.sk-toggleable__label {background-color: #d4ebff;}#sk-container-id-1 div.sk-serial::before {content: \"\";position: absolute;border-left: 1px solid gray;box-sizing: border-box;top: 0;bottom: 0;left: 50%;z-index: 0;}#sk-container-id-1 div.sk-serial {display: flex;flex-direction: column;align-items: center;background-color: white;padding-right: 0.2em;padding-left: 0.2em;position: relative;}#sk-container-id-1 div.sk-item {position: relative;z-index: 1;}#sk-container-id-1 div.sk-parallel {display: flex;align-items: stretch;justify-content: center;background-color: white;position: relative;}#sk-container-id-1 div.sk-item::before, #sk-container-id-1 div.sk-parallel-item::before {content: \"\";position: absolute;border-left: 1px solid gray;box-sizing: border-box;top: 0;bottom: 0;left: 50%;z-index: -1;}#sk-container-id-1 div.sk-parallel-item {display: flex;flex-direction: column;z-index: 1;position: relative;background-color: white;}#sk-container-id-1 div.sk-parallel-item:first-child::after {align-self: flex-end;width: 50%;}#sk-container-id-1 div.sk-parallel-item:last-child::after {align-self: flex-start;width: 50%;}#sk-container-id-1 div.sk-parallel-item:only-child::after {width: 0;}#sk-container-id-1 div.sk-dashed-wrapped {border: 1px dashed gray;margin: 0 0.4em 0.5em 0.4em;box-sizing: border-box;padding-bottom: 0.4em;background-color: white;}#sk-container-id-1 div.sk-label label {font-family: monospace;font-weight: bold;display: inline-block;line-height: 1.2em;}#sk-container-id-1 div.sk-label-container {text-align: center;}#sk-container-id-1 div.sk-container {/* jupyter's `normalize.less` sets `[hidden] { display: none; }` but bootstrap.min.css set `[hidden] { display: none !important; }` so we also need the `!important` here to be able to override the default hidden behavior on the sphinx rendered scikit-learn.org. See: https://github.com/scikit-learn/scikit-learn/issues/21755 */display: inline-block !important;position: relative;}#sk-container-id-1 div.sk-text-repr-fallback {display: none;}</style><div id=\"sk-container-id-1\" class=\"sk-top-container\"><div class=\"sk-text-repr-fallback\"><pre>Pipeline(steps=[(&#x27;preprocessor&#x27;,\n",
       "                 ColumnTransformer(transformers=[(&#x27;num&#x27;, StandardScaler(),\n",
       "                                                  [&#x27;year_built&#x27;, &#x27;sqft&#x27;,\n",
       "                                                   &#x27;baths&#x27;, &#x27;stories&#x27;, &#x27;beds&#x27;,\n",
       "                                                   &#x27;garage&#x27;]),\n",
       "                                                 (&#x27;cat&#x27;,\n",
       "                                                  OneHotEncoder(handle_unknown=&#x27;ignore&#x27;),\n",
       "                                                  [&#x27;type&#x27;, &#x27;city&#x27;])])),\n",
       "                (&#x27;model&#x27;, DecisionTreeRegressor(random_state=42))])</pre><b>In a Jupyter environment, please rerun this cell to show the HTML representation or trust the notebook. <br />On GitHub, the HTML representation is unable to render, please try loading this page with nbviewer.org.</b></div><div class=\"sk-container\" hidden><div class=\"sk-item sk-dashed-wrapped\"><div class=\"sk-label-container\"><div class=\"sk-label sk-toggleable\"><input class=\"sk-toggleable__control sk-hidden--visually\" id=\"sk-estimator-id-1\" type=\"checkbox\" ><label for=\"sk-estimator-id-1\" class=\"sk-toggleable__label sk-toggleable__label-arrow\">Pipeline</label><div class=\"sk-toggleable__content\"><pre>Pipeline(steps=[(&#x27;preprocessor&#x27;,\n",
       "                 ColumnTransformer(transformers=[(&#x27;num&#x27;, StandardScaler(),\n",
       "                                                  [&#x27;year_built&#x27;, &#x27;sqft&#x27;,\n",
       "                                                   &#x27;baths&#x27;, &#x27;stories&#x27;, &#x27;beds&#x27;,\n",
       "                                                   &#x27;garage&#x27;]),\n",
       "                                                 (&#x27;cat&#x27;,\n",
       "                                                  OneHotEncoder(handle_unknown=&#x27;ignore&#x27;),\n",
       "                                                  [&#x27;type&#x27;, &#x27;city&#x27;])])),\n",
       "                (&#x27;model&#x27;, DecisionTreeRegressor(random_state=42))])</pre></div></div></div><div class=\"sk-serial\"><div class=\"sk-item sk-dashed-wrapped\"><div class=\"sk-label-container\"><div class=\"sk-label sk-toggleable\"><input class=\"sk-toggleable__control sk-hidden--visually\" id=\"sk-estimator-id-2\" type=\"checkbox\" ><label for=\"sk-estimator-id-2\" class=\"sk-toggleable__label sk-toggleable__label-arrow\">preprocessor: ColumnTransformer</label><div class=\"sk-toggleable__content\"><pre>ColumnTransformer(transformers=[(&#x27;num&#x27;, StandardScaler(),\n",
       "                                 [&#x27;year_built&#x27;, &#x27;sqft&#x27;, &#x27;baths&#x27;, &#x27;stories&#x27;,\n",
       "                                  &#x27;beds&#x27;, &#x27;garage&#x27;]),\n",
       "                                (&#x27;cat&#x27;, OneHotEncoder(handle_unknown=&#x27;ignore&#x27;),\n",
       "                                 [&#x27;type&#x27;, &#x27;city&#x27;])])</pre></div></div></div><div class=\"sk-parallel\"><div class=\"sk-parallel-item\"><div class=\"sk-item\"><div class=\"sk-label-container\"><div class=\"sk-label sk-toggleable\"><input class=\"sk-toggleable__control sk-hidden--visually\" id=\"sk-estimator-id-3\" type=\"checkbox\" ><label for=\"sk-estimator-id-3\" class=\"sk-toggleable__label sk-toggleable__label-arrow\">num</label><div class=\"sk-toggleable__content\"><pre>[&#x27;year_built&#x27;, &#x27;sqft&#x27;, &#x27;baths&#x27;, &#x27;stories&#x27;, &#x27;beds&#x27;, &#x27;garage&#x27;]</pre></div></div></div><div class=\"sk-serial\"><div class=\"sk-item\"><div class=\"sk-estimator sk-toggleable\"><input class=\"sk-toggleable__control sk-hidden--visually\" id=\"sk-estimator-id-4\" type=\"checkbox\" ><label for=\"sk-estimator-id-4\" class=\"sk-toggleable__label sk-toggleable__label-arrow\">StandardScaler</label><div class=\"sk-toggleable__content\"><pre>StandardScaler()</pre></div></div></div></div></div></div><div class=\"sk-parallel-item\"><div class=\"sk-item\"><div class=\"sk-label-container\"><div class=\"sk-label sk-toggleable\"><input class=\"sk-toggleable__control sk-hidden--visually\" id=\"sk-estimator-id-5\" type=\"checkbox\" ><label for=\"sk-estimator-id-5\" class=\"sk-toggleable__label sk-toggleable__label-arrow\">cat</label><div class=\"sk-toggleable__content\"><pre>[&#x27;type&#x27;, &#x27;city&#x27;]</pre></div></div></div><div class=\"sk-serial\"><div class=\"sk-item\"><div class=\"sk-estimator sk-toggleable\"><input class=\"sk-toggleable__control sk-hidden--visually\" id=\"sk-estimator-id-6\" type=\"checkbox\" ><label for=\"sk-estimator-id-6\" class=\"sk-toggleable__label sk-toggleable__label-arrow\">OneHotEncoder</label><div class=\"sk-toggleable__content\"><pre>OneHotEncoder(handle_unknown=&#x27;ignore&#x27;)</pre></div></div></div></div></div></div></div></div><div class=\"sk-item\"><div class=\"sk-estimator sk-toggleable\"><input class=\"sk-toggleable__control sk-hidden--visually\" id=\"sk-estimator-id-7\" type=\"checkbox\" ><label for=\"sk-estimator-id-7\" class=\"sk-toggleable__label sk-toggleable__label-arrow\">DecisionTreeRegressor</label><div class=\"sk-toggleable__content\"><pre>DecisionTreeRegressor(random_state=42)</pre></div></div></div></div></div></div></div>"
      ],
      "text/plain": [
       "Pipeline(steps=[('preprocessor',\n",
       "                 ColumnTransformer(transformers=[('num', StandardScaler(),\n",
       "                                                  ['year_built', 'sqft',\n",
       "                                                   'baths', 'stories', 'beds',\n",
       "                                                   'garage']),\n",
       "                                                 ('cat',\n",
       "                                                  OneHotEncoder(handle_unknown='ignore'),\n",
       "                                                  ['type', 'city'])])),\n",
       "                ('model', DecisionTreeRegressor(random_state=42))])"
      ]
     },
     "execution_count": 15,
     "metadata": {},
     "output_type": "execute_result"
    }
   ],
   "source": [
    "# Create and fit pipeline\n",
    "\n",
    "pipeline = Pipeline([\n",
    "    ('preprocessor', preprocessor),\n",
    "    ('model', DecisionTreeRegressor(max_depth=None,\n",
    "                                    min_samples_leaf=1,\n",
    "                                    min_samples_split=2,\n",
    "                                    random_state=42))\n",
    "])\n",
    "\n",
    "pipeline.fit(X_train, y_train)"
   ]
  },
  {
   "cell_type": "markdown",
   "metadata": {},
   "source": [
    "***Save Pipeline***"
   ]
  },
  {
   "cell_type": "code",
   "execution_count": 16,
   "metadata": {},
   "outputs": [
    {
     "name": "stdout",
     "output_type": "stream",
     "text": [
      "Pipeline saved to ../models/pipeline/final_pipeline.pkl\n"
     ]
    }
   ],
   "source": [
    "pipeline_filename = '../models/final_pipeline/final_pipeline.pkl'\n",
    "joblib.dump(pipeline, pipeline_filename)\n",
    "print(f\"Pipeline saved to {pipeline_filename}\")"
   ]
  },
  {
   "cell_type": "markdown",
   "metadata": {},
   "source": [
    "# **Final Test on Model**"
   ]
  },
  {
   "cell_type": "markdown",
   "metadata": {},
   "source": [
    "This section is to test the data on completely unseen data that was not shown or used during the model selectiong/tuning process. The test will reflect how this model may preform against future data that has not been seen."
   ]
  },
  {
   "cell_type": "code",
   "execution_count": 17,
   "metadata": {},
   "outputs": [
    {
     "name": "stdout",
     "output_type": "stream",
     "text": [
      "Test Set Performance: MSE = 3366377871.1668324, MAE = 10258.264462809917, R^2 = 0.989823225121977\n"
     ]
    }
   ],
   "source": [
    "pipeline_filename = '../models/final_pipeline/final_pipeline.pkl'\n",
    "loaded_pipeline = joblib.load(pipeline_filename)\n",
    "\n",
    "y_pred = loaded_pipeline.predict(X_test)\n",
    "\n",
    "mse = mean_squared_error(y_test, y_pred)\n",
    "mae = mean_absolute_error(y_test, y_pred)\n",
    "r2 = r2_score(y_test, y_pred)\n",
    "\n",
    "print(f\"Test Set Performance: MSE = {mse}, MAE = {mae}, R^2 = {r2}\")"
   ]
  },
  {
   "cell_type": "markdown",
   "metadata": {},
   "source": [
    "### **Model Performance Comparison**\n",
    "\n",
    "#### ***Performance Metrics***\n",
    "\n",
    "| Metric                 | Testing Model                       | Final Model                        |\n",
    "|------------------------|-----------------------------------------------|----------------------------------------------|\n",
    "| **Mean Squared Error** (MSE) | 6,193,112,904.08                         | 3,366,377,871.16                             |\n",
    "| **Mean Absolute Error** (MAE) | 8,933.19                                 | 10,258.26                                    |\n",
    "| **R² Score**           | 0.9864                                        | 0.9898                                       |\n",
    "\n",
    "#### ***Summary***\n",
    "\n",
    "The table above compares the original model with no data changes and a feature selection model with chosen features:\n",
    "  \n",
    "- **Performance Comparisons:**\n",
    "  - **MSE** The final model has a significant lower MSE score.\n",
    "  - **MAE** The testing model has lower MAE score\n",
    "  - **R²** The final model has a slightly higher r2.\n",
    "\n",
    "This indicates that our final model that was used on completely new unseen data preforms better than our model we used for selection/tuning. "
   ]
  }
 ],
 "metadata": {
  "kernelspec": {
   "display_name": "base",
   "language": "python",
   "name": "python3"
  },
  "language_info": {
   "codemirror_mode": {
    "name": "ipython",
    "version": 3
   },
   "file_extension": ".py",
   "mimetype": "text/x-python",
   "name": "python",
   "nbconvert_exporter": "python",
   "pygments_lexer": "ipython3",
   "version": "3.10.13"
  }
 },
 "nbformat": 4,
 "nbformat_minor": 2
}
