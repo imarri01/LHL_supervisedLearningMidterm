{
 "cells": [
  {
   "cell_type": "markdown",
   "metadata": {},
   "source": [
    "***Imports***"
   ]
  },
  {
   "cell_type": "code",
   "execution_count": 25,
   "metadata": {},
   "outputs": [],
   "source": [
    "import numpy as np\n",
    "import pandas as pd\n",
    "import warnings\n",
    "\n",
    "from sklearn.model_selection import train_test_split, KFold, cross_val_score, GridSearchCV\n",
    "from sklearn.metrics import mean_squared_error, mean_absolute_error, r2_score\n",
    "from sklearn.model_selection import ParameterGrid\n",
    "\n",
    "from sklearn.preprocessing import OneHotEncoder, StandardScaler\n",
    "from sklearn.model_selection import GridSearchCV\n",
    "\n",
    "\n",
    "from sklearn.pipeline import Pipeline\n",
    "from sklearn.compose import ColumnTransformer\n",
    "from sklearn.impute import SimpleImputer\n",
    "\n",
    "from sklearn.tree import DecisionTreeRegressor\n",
    "\n",
    "from itertools import product\n",
    "import joblib\n",
    "\n",
    "import matplotlib.pyplot as plt\n",
    "import seaborn as sns\n",
    "\n",
    "# Disable all warnings\n",
    "warnings.filterwarnings('ignore')"
   ]
  },
  {
   "cell_type": "markdown",
   "metadata": {},
   "source": [
    "# **Prepping Data for Modeling**"
   ]
  },
  {
   "cell_type": "markdown",
   "metadata": {},
   "source": [
    "***Importing Data***"
   ]
  },
  {
   "cell_type": "code",
   "execution_count": 26,
   "metadata": {},
   "outputs": [],
   "source": [
    "df_final = pd.read_csv('../data/processed/df_final_processed_no_bins.csv')\n",
    "df_final_ohe = pd.read_csv('../data/processed/df_final_processed_OHE.csv')"
   ]
  },
  {
   "cell_type": "markdown",
   "metadata": {},
   "source": [
    "**Note:** During the part 3 exercise it was noted that the OHE method used in Part 2 was giving errors. In order to bypass these issues, label encoding was used instead."
   ]
  },
  {
   "cell_type": "code",
   "execution_count": 27,
   "metadata": {},
   "outputs": [],
   "source": [
    "df_final['city_encoded'] = df_final['city'].astype('category').cat.codes\n",
    "df_final['type_encoded'] = df_final['type'].astype('category').cat.codes\n",
    "\n",
    "df_final_part3 = df_final.drop(columns=['city', 'type'])\n",
    "\n",
    "df_final_part3.to_csv('../data/processed/df_final_part3.csv', index=False)"
   ]
  },
  {
   "cell_type": "markdown",
   "metadata": {},
   "source": [
    "# **Hyperparameter Tuning**"
   ]
  },
  {
   "cell_type": "code",
   "execution_count": 28,
   "metadata": {},
   "outputs": [
    {
     "name": "stdout",
     "output_type": "stream",
     "text": [
      "Best Parameters: {'max_depth': None, 'min_samples_leaf': 1, 'min_samples_split': 5}\n",
      "Best Score: 1826314718.4713082\n"
     ]
    }
   ],
   "source": [
    "def custom_cross_validation(training_data, n_splits=5):\n",
    "    '''creates n_splits sets of training and validation folds\n",
    "\n",
    "    Args:\n",
    "      training_data: the dataframe of features and target to be divided into folds\n",
    "      n_splits: the number of sets of folds to be created\n",
    "\n",
    "    Returns:\n",
    "      A tuple of lists, where the first index is a list of the training folds, \n",
    "      and the second the corresponding validation fold\n",
    "    '''\n",
    "\n",
    "    kf = KFold(n_splits=n_splits, shuffle=True, random_state=42)\n",
    "    training_folds = []\n",
    "    validation_folds = []\n",
    "\n",
    "    for train_index, val_index in kf.split(training_data):\n",
    "\n",
    "        train_fold = training_data.iloc[train_index].copy()\n",
    "        val_fold = training_data.iloc[val_index].copy()\n",
    "\n",
    "\n",
    "        # Compute city means on the training folds\n",
    "\n",
    "        city_means = train_fold.groupby('city_encoded')['price'].mean().rename('city_mean_price')\n",
    "\n",
    "\n",
    "        # Join these values to both training and validation folds\n",
    "\n",
    "        train_fold = train_fold.merge(city_means, on='city_encoded', how='left')\n",
    "        val_fold = val_fold.merge(city_means, on='city_encoded', how='left')\n",
    "\n",
    "\n",
    "        # Fill NaN values that might appear due to missing cities in validation fold\n",
    "\n",
    "        train_fold['city_mean_price'] = train_fold['city_mean_price'].fillna(\n",
    "            train_fold['price'].mean())\n",
    "        val_fold['city_mean_price'] = val_fold['city_mean_price'].fillna(\n",
    "            train_fold['price'].mean())\n",
    "\n",
    "        training_folds.append(train_fold)\n",
    "        validation_folds.append(val_fold)\n",
    "\n",
    "    return training_folds, validation_folds\n",
    "\n",
    "\n",
    "def hyperparameter_search(training_folds, validation_folds, param_grid):\n",
    "    '''outputs the best combination of hyperparameter settings in the param grid, \n",
    "    given the training and validation folds\n",
    "\n",
    "    Args:\n",
    "      training_folds: the list of training fold dataframes\n",
    "      validation_folds: the list of validation fold dataframes\n",
    "      param_grid: the dictionary of possible hyperparameter values for the chosen model\n",
    "\n",
    "    Returns:\n",
    "      A tuple including a list of the best hyperparameter settings and the best score using\n",
    "      mean squared error.\n",
    "      '''\n",
    "\n",
    "    best_params = None\n",
    "    best_score = float('inf')\n",
    "\n",
    "    for params in ParameterGrid(param_grid):\n",
    "\n",
    "        mse_scores = []\n",
    "\n",
    "        for train_fold, val_fold in zip(training_folds, validation_folds): # runs through \n",
    "\n",
    "            model = DecisionTreeRegressor(**params, random_state=42)\n",
    "            X_train = train_fold.drop(columns=['price'])\n",
    "            y_train = train_fold['price']\n",
    "            X_val = val_fold.drop(columns=['price'])\n",
    "            y_val = val_fold['price']\n",
    "\n",
    "            model.fit(X_train, y_train)\n",
    "            y_pred = model.predict(X_val)\n",
    "            mse = mean_squared_error(y_val, y_pred)\n",
    "            mse_scores.append(mse)\n",
    "\n",
    "        avg_score = np.mean(mse_scores)\n",
    "\n",
    "        if avg_score < best_score: # checks if better than best score\n",
    "            best_score = avg_score\n",
    "            best_params = params\n",
    "\n",
    "    return best_params, best_score\n",
    "\n",
    "\n",
    "# Perform custom cross-validation\n",
    "\n",
    "training_folds, validation_folds = custom_cross_validation(\n",
    "    df_final_part3, n_splits=5)\n",
    "\n",
    "\n",
    "# Define the hyperparameter grid for the Decision Tree model\n",
    "\n",
    "param_grid = {\n",
    "    'max_depth': [None, 10, 20, 30],\n",
    "    'min_samples_split': [2, 5, 10],\n",
    "    'min_samples_leaf': [1, 2, 4]\n",
    "}\n",
    "\n",
    "\n",
    "# Perform hyperparameter search\n",
    "\n",
    "best_params, best_score = hyperparameter_search(training_folds, validation_folds, param_grid)\n",
    "print(\"Best Parameters:\", best_params)\n",
    "print(\"Best Score:\", best_score)"
   ]
  },
  {
   "cell_type": "markdown",
   "metadata": {},
   "source": [
    "***Saving Final Model***"
   ]
  },
  {
   "cell_type": "code",
   "execution_count": 29,
   "metadata": {},
   "outputs": [
    {
     "data": {
      "text/plain": [
       "['../models/best-model/final_decision_tree_model.pkl']"
      ]
     },
     "execution_count": 29,
     "metadata": {},
     "output_type": "execute_result"
    }
   ],
   "source": [
    "# Train the final model using the best hyperparameters\n",
    "\n",
    "final_model = DecisionTreeRegressor(**best_params, random_state=42)\n",
    "X_train = df_final_part3.drop(columns=['price'])\n",
    "y_train = df_final_part3['price']\n",
    "final_model.fit(X_train, y_train)\n",
    "\n",
    "# Save the final model\n",
    "\n",
    "joblib.dump(final_model, '../models/best-model/final_decision_tree_model.pkl')"
   ]
  },
  {
   "cell_type": "code",
   "execution_count": 30,
   "metadata": {},
   "outputs": [
    {
     "name": "stdout",
     "output_type": "stream",
     "text": [
      "Test Set Performance: MSE = 1043388429.7520661, MAE = 4235.537190082645, R^2 = 0.9968457702711073\n"
     ]
    }
   ],
   "source": [
    "# Split the data into training and test sets\n",
    "\n",
    "X = df_final_part3.drop(columns=['price'])\n",
    "y = df_final_part3['price']\n",
    "\n",
    "X_train, X_test, y_train, y_test = train_test_split(\n",
    "    X, y, test_size=0.2, random_state=42)\n",
    "\n",
    "\n",
    "# Load the saved model\n",
    "\n",
    "model_filename = '../models/best-model/final_decision_tree_model.pkl'\n",
    "loaded_model = joblib.load(model_filename)\n",
    "\n",
    "\n",
    "# Fit the model on the training data\n",
    "\n",
    "loaded_model.fit(X_train, y_train)\n",
    "\n",
    "\n",
    "# Predict on the test data\n",
    "\n",
    "y_pred = loaded_model.predict(X_test)\n",
    "\n",
    "\n",
    "# Evaluate the model\n",
    "\n",
    "mse = mean_squared_error(y_test, y_pred)\n",
    "mae = mean_absolute_error(y_test, y_pred)\n",
    "r2 = r2_score(y_test, y_pred)\n",
    "\n",
    "print(f\"Test Set Performance: MSE = {mse}, MAE = {mae}, R^2 = {r2}\")"
   ]
  },
  {
   "cell_type": "markdown",
   "metadata": {},
   "source": [
    "#### ***Model refinement***\n"
   ]
  },
  {
   "cell_type": "code",
   "execution_count": 33,
   "metadata": {},
   "outputs": [
    {
     "name": "stdout",
     "output_type": "stream",
     "text": [
      "Best Parameters: {'criterion': 'friedman_mse', 'max_depth': 20, 'min_samples_leaf': 1, 'min_samples_split': 2, 'splitter': 'random'}\n",
      "Refined Model Performance:\n",
      "MSE = 2066115702.4793\n",
      "MAE = 4545.4545\n",
      "R^2 = 0.9938\n"
     ]
    }
   ],
   "source": [
    "# Hyperparameter Tuning with GridSearchCV\n",
    "\n",
    "# Define the parameter grid for DecisionTreeRegressor\n",
    "param_grid = {\n",
    "    'criterion': ['squared_error', 'friedman_mse', 'absolute_error', 'poisson'],\n",
    "    'splitter': ['best', 'random'],\n",
    "    'max_depth': [None, 10, 20, 30, 40],\n",
    "    'min_samples_split': [2, 5, 10],\n",
    "    'min_samples_leaf': [1, 2, 4]\n",
    "}\n",
    "\n",
    "# Set up the GridSearchCV\n",
    "grid_search = GridSearchCV(estimator=DecisionTreeRegressor(random_state=42),\n",
    "                           param_grid=param_grid,\n",
    "                           cv=5,\n",
    "                           scoring='neg_mean_squared_error',\n",
    "                           n_jobs=-1)\n",
    "\n",
    "# Fit the grid search to the data\n",
    "grid_search.fit(X_train, y_train)\n",
    "best_params = grid_search.best_params_\n",
    "best_model = grid_search.best_estimator_\n",
    "\n",
    "print(f\"Best Parameters: {best_params}\")\n",
    "\n",
    "# Evaluate the refined model\n",
    "y_pred = best_model.predict(X_test)\n",
    "mse = mean_squared_error(y_test, y_pred)\n",
    "mae = mean_absolute_error(y_test, y_pred)\n",
    "r2 = r2_score(y_test, y_pred)\n",
    "\n",
    "print(f\"Refined Model Performance:\\nMSE = {mse:.4f}\\nMAE = {mae:.4f}\\nR^2 = {r2:.4f}\")"
   ]
  },
  {
   "cell_type": "markdown",
   "metadata": {},
   "source": [
    "### **Model Performance Comparison**\n",
    "\n",
    "#### ***Performance Metrics***\n",
    "\n",
    "| Metric                 | Before Model Refinement                       | After Model Refinement                        |\n",
    "|------------------------|-----------------------------------------------|----------------------------------------------|\n",
    "| **Parameters**         | `max_depth`: 30, `min_samples_leaf`: 1, `min_samples_split`: 2 | `max_depth`: None, `min_samples_leaf`: 1, `min_samples_split`: 2, `n_estimators`: 100 |\n",
    "| **Mean Squared Error** (MSE) | 1,528,925,619.83                         | 2,442,694,214.88                             |\n",
    "| **Mean Absolute Error** (MAE) | 5,991.74                                 | 18,491.74                                    |\n",
    "| **R² Score**           | 0.9954                                        | 0.9926                                       |\n",
    "\n",
    "#### ***Summary***\n",
    "\n",
    "The table above compares the model performance before and after refinement:\n",
    "\n",
    "- **Parameters:**\n",
    "  - The refined model added the `n_estimators` parameter set to 100, with `max_depth` set to None.\n",
    "  \n",
    "- **Performance:**\n",
    "  - **MSE increased** from 1,528,925,619.83 to 2,442,694,214.88.\n",
    "  - **MAE increased** significantly from 5,991.74 to 18,491.74.\n",
    "  - **R² Score slightly decreased** from 0.9954 to 0.9926.\n",
    "\n",
    "This indicates that the model refinement, while adding complexity with more estimators, resulted in worse performance as evidenced by the increased MSE and MAE, and a slightly lower R² score. This suggests that the initial model might be more suitable for the given data."
   ]
  },
  {
   "cell_type": "markdown",
   "metadata": {},
   "source": [
    "#### Feature Importance"
   ]
  },
  {
   "cell_type": "code",
   "execution_count": 34,
   "metadata": {},
   "outputs": [
    {
     "data": {
      "image/png": "[encoded data removed]",
      "text/plain": [
       "<Figure size 1200x800 with 1 Axes>"
      ]
     },
     "metadata": {},
     "output_type": "display_data"
    }
   ],
   "source": [
    "\n",
    "# Get feature importances from the model\n",
    "\n",
    "feature_importances = loaded_model.feature_importances_\n",
    "features = X.columns\n",
    "\n",
    "\n",
    "# Create a DataFrame for feature importances\n",
    "\n",
    "importance_df = pd.DataFrame({'Feature': features,\n",
    "                              'Importance': feature_importances})\n",
    "importance_df = importance_df.sort_values(by='Importance', ascending=False).head(10)\n",
    "\n",
    "# Plot feature importances\n",
    "plt.figure(figsize=(12, 8))\n",
    "plt.barh(importance_df['Feature'],\n",
    "         importance_df['Importance'], color='skyblue')\n",
    "plt.xlabel('Importance', fontsize=14)\n",
    "plt.ylabel('Feature', fontsize=14)\n",
    "plt.title('Top 10 Feature Importances', fontsize=16)\n",
    "plt.gca().invert_yaxis()\n",
    "\n",
    "# Adding grid for better readability\n",
    "plt.grid(True, linestyle='--', alpha=0.7)\n",
    "\n",
    "# Removing spines for a cleaner look\n",
    "plt.gca().spines['top'].set_visible(False)\n",
    "plt.gca().spines['right'].set_visible(False)\n",
    "\n",
    "plt.show()"
   ]
  },
  {
   "cell_type": "markdown",
   "metadata": {},
   "source": [
    "***Note: The above chart shows `sqft` as the most important feature. This is in alignment with the heat map generated from part 1 EDA.*** \n",
    "\n",
    "\n",
    "![heatmap](../images/correlation_heatmap_new.png)"
   ]
  },
  {
   "cell_type": "code",
   "execution_count": 35,
   "metadata": {},
   "outputs": [
    {
     "name": "stdout",
     "output_type": "stream",
     "text": [
      "Model saved to ../models/refined_final_decision_tree_model.pkl\n"
     ]
    }
   ],
   "source": [
    "model_filename = '../models/refined_final_decision_tree_model.pkl'\n",
    "joblib.dump(best_model, model_filename)\n",
    "print(f\"Model saved to {model_filename}\")"
   ]
  },
  {
   "cell_type": "markdown",
   "metadata": {},
   "source": [
    "#### Prediction Function"
   ]
  },
  {
   "cell_type": "code",
   "execution_count": 36,
   "metadata": {},
   "outputs": [],
   "source": [
    "# An idea for a function that we could've used above to make things a lot easier. This could also be used in a sample pipeline\n",
    "def load_model(model_path):\n",
    "    \"\"\"Load the trained model from the file.\"\"\"\n",
    "    return joblib.load(model_path)\n",
    "\n",
    "\n",
    "def predict(data, model):\n",
    "    \"\"\"Predict the target variable using the trained model.\"\"\"\n",
    "    predictions = model.predict(data)\n",
    "    return predictions\n"
   ]
  },
  {
   "cell_type": "markdown",
   "metadata": {},
   "source": [
    "### **Pipeline**"
   ]
  },
  {
   "cell_type": "markdown",
   "metadata": {},
   "source": [
    "This process encapsulates the entire workflow, including data preprocessing, model training, and prediction into a single pipeline. The pipeline is then saved to a file, which can be loaded in the future for making predictions on new data"
   ]
  },
  {
   "cell_type": "code",
   "execution_count": 39,
   "metadata": {},
   "outputs": [],
   "source": [
    "# Define numerical and categorical features\n",
    "numerical_features = ['year_built', 'sqft', 'baths', 'stories', 'beds', 'garage',\n",
    "                      'garage_1_or_more', 'garage_2_or_more', 'hardwood_floors',\n",
    "                      'laundry_room', 'recreation_facilities', 'shopping', 'single_story', 'two_or_more_stories']\n",
    "categorical_features = ['type', 'city']\n",
    "\n",
    "# Create a ColumnTransformer for preprocessing\n",
    "preprocessor = ColumnTransformer(\n",
    "    transformers=[\n",
    "        ('num', StandardScaler(), numerical_features),\n",
    "        ('cat', OneHotEncoder(handle_unknown='ignore'), categorical_features)\n",
    "    ])"
   ]
  },
  {
   "cell_type": "code",
   "execution_count": 40,
   "metadata": {},
   "outputs": [],
   "source": [
    "# Create the pipeline\n",
    "pipeline = Pipeline(steps=[\n",
    "    ('preprocessor', preprocessor),\n",
    "    ('model', DecisionTreeRegressor(random_state=42))\n",
    "])"
   ]
  },
  {
   "cell_type": "code",
   "execution_count": 41,
   "metadata": {},
   "outputs": [
    {
     "data": {
      "text/html": [
       "<style>#sk-container-id-2 {color: black;background-color: white;}#sk-container-id-2 pre{padding: 0;}#sk-container-id-2 div.sk-toggleable {background-color: white;}#sk-container-id-2 label.sk-toggleable__label {cursor: pointer;display: block;width: 100%;margin-bottom: 0;padding: 0.3em;box-sizing: border-box;text-align: center;}#sk-container-id-2 label.sk-toggleable__label-arrow:before {content: \"▸\";float: left;margin-right: 0.25em;color: #696969;}#sk-container-id-2 label.sk-toggleable__label-arrow:hover:before {color: black;}#sk-container-id-2 div.sk-estimator:hover label.sk-toggleable__label-arrow:before {color: black;}#sk-container-id-2 div.sk-toggleable__content {max-height: 0;max-width: 0;overflow: hidden;text-align: left;background-color: #f0f8ff;}#sk-container-id-2 div.sk-toggleable__content pre {margin: 0.2em;color: black;border-radius: 0.25em;background-color: #f0f8ff;}#sk-container-id-2 input.sk-toggleable__control:checked~div.sk-toggleable__content {max-height: 200px;max-width: 100%;overflow: auto;}#sk-container-id-2 input.sk-toggleable__control:checked~label.sk-toggleable__label-arrow:before {content: \"▾\";}#sk-container-id-2 div.sk-estimator input.sk-toggleable__control:checked~label.sk-toggleable__label {background-color: #d4ebff;}#sk-container-id-2 div.sk-label input.sk-toggleable__control:checked~label.sk-toggleable__label {background-color: #d4ebff;}#sk-container-id-2 input.sk-hidden--visually {border: 0;clip: rect(1px 1px 1px 1px);clip: rect(1px, 1px, 1px, 1px);height: 1px;margin: -1px;overflow: hidden;padding: 0;position: absolute;width: 1px;}#sk-container-id-2 div.sk-estimator {font-family: monospace;background-color: #f0f8ff;border: 1px dotted black;border-radius: 0.25em;box-sizing: border-box;margin-bottom: 0.5em;}#sk-container-id-2 div.sk-estimator:hover {background-color: #d4ebff;}#sk-container-id-2 div.sk-parallel-item::after {content: \"\";width: 100%;border-bottom: 1px solid gray;flex-grow: 1;}#sk-container-id-2 div.sk-label:hover label.sk-toggleable__label {background-color: #d4ebff;}#sk-container-id-2 div.sk-serial::before {content: \"\";position: absolute;border-left: 1px solid gray;box-sizing: border-box;top: 0;bottom: 0;left: 50%;z-index: 0;}#sk-container-id-2 div.sk-serial {display: flex;flex-direction: column;align-items: center;background-color: white;padding-right: 0.2em;padding-left: 0.2em;position: relative;}#sk-container-id-2 div.sk-item {position: relative;z-index: 1;}#sk-container-id-2 div.sk-parallel {display: flex;align-items: stretch;justify-content: center;background-color: white;position: relative;}#sk-container-id-2 div.sk-item::before, #sk-container-id-2 div.sk-parallel-item::before {content: \"\";position: absolute;border-left: 1px solid gray;box-sizing: border-box;top: 0;bottom: 0;left: 50%;z-index: -1;}#sk-container-id-2 div.sk-parallel-item {display: flex;flex-direction: column;z-index: 1;position: relative;background-color: white;}#sk-container-id-2 div.sk-parallel-item:first-child::after {align-self: flex-end;width: 50%;}#sk-container-id-2 div.sk-parallel-item:last-child::after {align-self: flex-start;width: 50%;}#sk-container-id-2 div.sk-parallel-item:only-child::after {width: 0;}#sk-container-id-2 div.sk-dashed-wrapped {border: 1px dashed gray;margin: 0 0.4em 0.5em 0.4em;box-sizing: border-box;padding-bottom: 0.4em;background-color: white;}#sk-container-id-2 div.sk-label label {font-family: monospace;font-weight: bold;display: inline-block;line-height: 1.2em;}#sk-container-id-2 div.sk-label-container {text-align: center;}#sk-container-id-2 div.sk-container {/* jupyter's `normalize.less` sets `[hidden] { display: none; }` but bootstrap.min.css set `[hidden] { display: none !important; }` so we also need the `!important` here to be able to override the default hidden behavior on the sphinx rendered scikit-learn.org. See: https://github.com/scikit-learn/scikit-learn/issues/21755 */display: inline-block !important;position: relative;}#sk-container-id-2 div.sk-text-repr-fallback {display: none;}</style><div id=\"sk-container-id-2\" class=\"sk-top-container\"><div class=\"sk-text-repr-fallback\"><pre>Pipeline(steps=[(&#x27;preprocessor&#x27;,\n",
       "                 ColumnTransformer(transformers=[(&#x27;num&#x27;, StandardScaler(),\n",
       "                                                  [&#x27;year_built&#x27;, &#x27;sqft&#x27;,\n",
       "                                                   &#x27;baths&#x27;, &#x27;stories&#x27;, &#x27;beds&#x27;,\n",
       "                                                   &#x27;garage&#x27;, &#x27;garage_1_or_more&#x27;,\n",
       "                                                   &#x27;garage_2_or_more&#x27;,\n",
       "                                                   &#x27;hardwood_floors&#x27;,\n",
       "                                                   &#x27;laundry_room&#x27;,\n",
       "                                                   &#x27;recreation_facilities&#x27;,\n",
       "                                                   &#x27;shopping&#x27;, &#x27;single_story&#x27;,\n",
       "                                                   &#x27;two_or_more_stories&#x27;]),\n",
       "                                                 (&#x27;cat&#x27;,\n",
       "                                                  OneHotEncoder(handle_unknown=&#x27;ignore&#x27;),\n",
       "                                                  [&#x27;type&#x27;, &#x27;city&#x27;])])),\n",
       "                (&#x27;model&#x27;, DecisionTreeRegressor(random_state=42))])</pre><b>In a Jupyter environment, please rerun this cell to show the HTML representation or trust the notebook. <br />On GitHub, the HTML representation is unable to render, please try loading this page with nbviewer.org.</b></div><div class=\"sk-container\" hidden><div class=\"sk-item sk-dashed-wrapped\"><div class=\"sk-label-container\"><div class=\"sk-label sk-toggleable\"><input class=\"sk-toggleable__control sk-hidden--visually\" id=\"sk-estimator-id-8\" type=\"checkbox\" ><label for=\"sk-estimator-id-8\" class=\"sk-toggleable__label sk-toggleable__label-arrow\">Pipeline</label><div class=\"sk-toggleable__content\"><pre>Pipeline(steps=[(&#x27;preprocessor&#x27;,\n",
       "                 ColumnTransformer(transformers=[(&#x27;num&#x27;, StandardScaler(),\n",
       "                                                  [&#x27;year_built&#x27;, &#x27;sqft&#x27;,\n",
       "                                                   &#x27;baths&#x27;, &#x27;stories&#x27;, &#x27;beds&#x27;,\n",
       "                                                   &#x27;garage&#x27;, &#x27;garage_1_or_more&#x27;,\n",
       "                                                   &#x27;garage_2_or_more&#x27;,\n",
       "                                                   &#x27;hardwood_floors&#x27;,\n",
       "                                                   &#x27;laundry_room&#x27;,\n",
       "                                                   &#x27;recreation_facilities&#x27;,\n",
       "                                                   &#x27;shopping&#x27;, &#x27;single_story&#x27;,\n",
       "                                                   &#x27;two_or_more_stories&#x27;]),\n",
       "                                                 (&#x27;cat&#x27;,\n",
       "                                                  OneHotEncoder(handle_unknown=&#x27;ignore&#x27;),\n",
       "                                                  [&#x27;type&#x27;, &#x27;city&#x27;])])),\n",
       "                (&#x27;model&#x27;, DecisionTreeRegressor(random_state=42))])</pre></div></div></div><div class=\"sk-serial\"><div class=\"sk-item sk-dashed-wrapped\"><div class=\"sk-label-container\"><div class=\"sk-label sk-toggleable\"><input class=\"sk-toggleable__control sk-hidden--visually\" id=\"sk-estimator-id-9\" type=\"checkbox\" ><label for=\"sk-estimator-id-9\" class=\"sk-toggleable__label sk-toggleable__label-arrow\">preprocessor: ColumnTransformer</label><div class=\"sk-toggleable__content\"><pre>ColumnTransformer(transformers=[(&#x27;num&#x27;, StandardScaler(),\n",
       "                                 [&#x27;year_built&#x27;, &#x27;sqft&#x27;, &#x27;baths&#x27;, &#x27;stories&#x27;,\n",
       "                                  &#x27;beds&#x27;, &#x27;garage&#x27;, &#x27;garage_1_or_more&#x27;,\n",
       "                                  &#x27;garage_2_or_more&#x27;, &#x27;hardwood_floors&#x27;,\n",
       "                                  &#x27;laundry_room&#x27;, &#x27;recreation_facilities&#x27;,\n",
       "                                  &#x27;shopping&#x27;, &#x27;single_story&#x27;,\n",
       "                                  &#x27;two_or_more_stories&#x27;]),\n",
       "                                (&#x27;cat&#x27;, OneHotEncoder(handle_unknown=&#x27;ignore&#x27;),\n",
       "                                 [&#x27;type&#x27;, &#x27;city&#x27;])])</pre></div></div></div><div class=\"sk-parallel\"><div class=\"sk-parallel-item\"><div class=\"sk-item\"><div class=\"sk-label-container\"><div class=\"sk-label sk-toggleable\"><input class=\"sk-toggleable__control sk-hidden--visually\" id=\"sk-estimator-id-10\" type=\"checkbox\" ><label for=\"sk-estimator-id-10\" class=\"sk-toggleable__label sk-toggleable__label-arrow\">num</label><div class=\"sk-toggleable__content\"><pre>[&#x27;year_built&#x27;, &#x27;sqft&#x27;, &#x27;baths&#x27;, &#x27;stories&#x27;, &#x27;beds&#x27;, &#x27;garage&#x27;, &#x27;garage_1_or_more&#x27;, &#x27;garage_2_or_more&#x27;, &#x27;hardwood_floors&#x27;, &#x27;laundry_room&#x27;, &#x27;recreation_facilities&#x27;, &#x27;shopping&#x27;, &#x27;single_story&#x27;, &#x27;two_or_more_stories&#x27;]</pre></div></div></div><div class=\"sk-serial\"><div class=\"sk-item\"><div class=\"sk-estimator sk-toggleable\"><input class=\"sk-toggleable__control sk-hidden--visually\" id=\"sk-estimator-id-11\" type=\"checkbox\" ><label for=\"sk-estimator-id-11\" class=\"sk-toggleable__label sk-toggleable__label-arrow\">StandardScaler</label><div class=\"sk-toggleable__content\"><pre>StandardScaler()</pre></div></div></div></div></div></div><div class=\"sk-parallel-item\"><div class=\"sk-item\"><div class=\"sk-label-container\"><div class=\"sk-label sk-toggleable\"><input class=\"sk-toggleable__control sk-hidden--visually\" id=\"sk-estimator-id-12\" type=\"checkbox\" ><label for=\"sk-estimator-id-12\" class=\"sk-toggleable__label sk-toggleable__label-arrow\">cat</label><div class=\"sk-toggleable__content\"><pre>[&#x27;type&#x27;, &#x27;city&#x27;]</pre></div></div></div><div class=\"sk-serial\"><div class=\"sk-item\"><div class=\"sk-estimator sk-toggleable\"><input class=\"sk-toggleable__control sk-hidden--visually\" id=\"sk-estimator-id-13\" type=\"checkbox\" ><label for=\"sk-estimator-id-13\" class=\"sk-toggleable__label sk-toggleable__label-arrow\">OneHotEncoder</label><div class=\"sk-toggleable__content\"><pre>OneHotEncoder(handle_unknown=&#x27;ignore&#x27;)</pre></div></div></div></div></div></div></div></div><div class=\"sk-item\"><div class=\"sk-estimator sk-toggleable\"><input class=\"sk-toggleable__control sk-hidden--visually\" id=\"sk-estimator-id-14\" type=\"checkbox\" ><label for=\"sk-estimator-id-14\" class=\"sk-toggleable__label sk-toggleable__label-arrow\">DecisionTreeRegressor</label><div class=\"sk-toggleable__content\"><pre>DecisionTreeRegressor(random_state=42)</pre></div></div></div></div></div></div></div>"
      ],
      "text/plain": [
       "Pipeline(steps=[('preprocessor',\n",
       "                 ColumnTransformer(transformers=[('num', StandardScaler(),\n",
       "                                                  ['year_built', 'sqft',\n",
       "                                                   'baths', 'stories', 'beds',\n",
       "                                                   'garage', 'garage_1_or_more',\n",
       "                                                   'garage_2_or_more',\n",
       "                                                   'hardwood_floors',\n",
       "                                                   'laundry_room',\n",
       "                                                   'recreation_facilities',\n",
       "                                                   'shopping', 'single_story',\n",
       "                                                   'two_or_more_stories']),\n",
       "                                                 ('cat',\n",
       "                                                  OneHotEncoder(handle_unknown='ignore'),\n",
       "                                                  ['type', 'city'])])),\n",
       "                ('model', DecisionTreeRegressor(random_state=42))])"
      ]
     },
     "execution_count": 41,
     "metadata": {},
     "output_type": "execute_result"
    }
   ],
   "source": [
    "# Split the data into training and test sets\n",
    "X = df_final.drop(columns=['price'])\n",
    "y = df_final['price']\n",
    "\n",
    "X_train, X_test, y_train, y_test = train_test_split(\n",
    "    X, y, test_size=0.2, random_state=42)\n",
    "\n",
    "# Fit the pipeline on the training data\n",
    "pipeline.fit(X_train, y_train)"
   ]
  },
  {
   "cell_type": "code",
   "execution_count": 42,
   "metadata": {},
   "outputs": [
    {
     "name": "stdout",
     "output_type": "stream",
     "text": [
      "Pipeline saved to ../models/pipeline/final_pipeline.pkl\n"
     ]
    }
   ],
   "source": [
    "#Save the pipeline\n",
    "pipeline_filename = '../models/pipeline/final_pipeline.pkl'\n",
    "joblib.dump(pipeline, pipeline_filename)\n",
    "print(f\"Pipeline saved to {pipeline_filename}\")"
   ]
  },
  {
   "cell_type": "markdown",
   "metadata": {},
   "source": [
    "### Test model and pipeline"
   ]
  },
  {
   "cell_type": "code",
   "execution_count": 43,
   "metadata": {},
   "outputs": [
    {
     "data": {
      "text/html": [
       "<div>\n",
       "<style scoped>\n",
       "    .dataframe tbody tr th:only-of-type {\n",
       "        vertical-align: middle;\n",
       "    }\n",
       "\n",
       "    .dataframe tbody tr th {\n",
       "        vertical-align: top;\n",
       "    }\n",
       "\n",
       "    .dataframe thead th {\n",
       "        text-align: right;\n",
       "    }\n",
       "</style>\n",
       "<table border=\"1\" class=\"dataframe\">\n",
       "  <thead>\n",
       "    <tr style=\"text-align: right;\">\n",
       "      <th></th>\n",
       "      <th>year_built</th>\n",
       "      <th>sqft</th>\n",
       "      <th>baths</th>\n",
       "      <th>stories</th>\n",
       "      <th>beds</th>\n",
       "      <th>garage</th>\n",
       "      <th>is_foreclosure</th>\n",
       "      <th>price</th>\n",
       "      <th>basement</th>\n",
       "      <th>central_air</th>\n",
       "      <th>...</th>\n",
       "      <th>hardwood_floors</th>\n",
       "      <th>laundry_room</th>\n",
       "      <th>recreation_facilities</th>\n",
       "      <th>shopping</th>\n",
       "      <th>single_story</th>\n",
       "      <th>two_or_more_stories</th>\n",
       "      <th>view</th>\n",
       "      <th>washer_dryer</th>\n",
       "      <th>city_encoded</th>\n",
       "      <th>type_encoded</th>\n",
       "    </tr>\n",
       "  </thead>\n",
       "  <tbody>\n",
       "    <tr>\n",
       "      <th>0</th>\n",
       "      <td>1990</td>\n",
       "      <td>1500</td>\n",
       "      <td>2.0</td>\n",
       "      <td>1.0</td>\n",
       "      <td>3.0</td>\n",
       "      <td>2.0</td>\n",
       "      <td>False</td>\n",
       "      <td>200000</td>\n",
       "      <td>0</td>\n",
       "      <td>1</td>\n",
       "      <td>...</td>\n",
       "      <td>0</td>\n",
       "      <td>0</td>\n",
       "      <td>1</td>\n",
       "      <td>0</td>\n",
       "      <td>1</td>\n",
       "      <td>0</td>\n",
       "      <td>1</td>\n",
       "      <td>0</td>\n",
       "      <td>28</td>\n",
       "      <td>4</td>\n",
       "    </tr>\n",
       "    <tr>\n",
       "      <th>1</th>\n",
       "      <td>2000</td>\n",
       "      <td>2000</td>\n",
       "      <td>3.0</td>\n",
       "      <td>2.0</td>\n",
       "      <td>3.0</td>\n",
       "      <td>2.0</td>\n",
       "      <td>False</td>\n",
       "      <td>200000</td>\n",
       "      <td>0</td>\n",
       "      <td>1</td>\n",
       "      <td>...</td>\n",
       "      <td>0</td>\n",
       "      <td>0</td>\n",
       "      <td>0</td>\n",
       "      <td>0</td>\n",
       "      <td>0</td>\n",
       "      <td>1</td>\n",
       "      <td>0</td>\n",
       "      <td>0</td>\n",
       "      <td>28</td>\n",
       "      <td>4</td>\n",
       "    </tr>\n",
       "    <tr>\n",
       "      <th>2</th>\n",
       "      <td>2000</td>\n",
       "      <td>2000</td>\n",
       "      <td>2.0</td>\n",
       "      <td>2.0</td>\n",
       "      <td>3.0</td>\n",
       "      <td>2.0</td>\n",
       "      <td>False</td>\n",
       "      <td>200000</td>\n",
       "      <td>0</td>\n",
       "      <td>1</td>\n",
       "      <td>...</td>\n",
       "      <td>1</td>\n",
       "      <td>0</td>\n",
       "      <td>0</td>\n",
       "      <td>0</td>\n",
       "      <td>0</td>\n",
       "      <td>1</td>\n",
       "      <td>1</td>\n",
       "      <td>0</td>\n",
       "      <td>28</td>\n",
       "      <td>4</td>\n",
       "    </tr>\n",
       "    <tr>\n",
       "      <th>3</th>\n",
       "      <td>1980</td>\n",
       "      <td>500</td>\n",
       "      <td>2.0</td>\n",
       "      <td>2.0</td>\n",
       "      <td>2.0</td>\n",
       "      <td>1.0</td>\n",
       "      <td>False</td>\n",
       "      <td>0</td>\n",
       "      <td>0</td>\n",
       "      <td>1</td>\n",
       "      <td>...</td>\n",
       "      <td>0</td>\n",
       "      <td>0</td>\n",
       "      <td>1</td>\n",
       "      <td>1</td>\n",
       "      <td>0</td>\n",
       "      <td>1</td>\n",
       "      <td>1</td>\n",
       "      <td>0</td>\n",
       "      <td>28</td>\n",
       "      <td>1</td>\n",
       "    </tr>\n",
       "    <tr>\n",
       "      <th>4</th>\n",
       "      <td>2000</td>\n",
       "      <td>3000</td>\n",
       "      <td>3.0</td>\n",
       "      <td>2.0</td>\n",
       "      <td>4.0</td>\n",
       "      <td>2.0</td>\n",
       "      <td>False</td>\n",
       "      <td>200000</td>\n",
       "      <td>0</td>\n",
       "      <td>0</td>\n",
       "      <td>...</td>\n",
       "      <td>0</td>\n",
       "      <td>0</td>\n",
       "      <td>1</td>\n",
       "      <td>1</td>\n",
       "      <td>0</td>\n",
       "      <td>1</td>\n",
       "      <td>1</td>\n",
       "      <td>0</td>\n",
       "      <td>28</td>\n",
       "      <td>4</td>\n",
       "    </tr>\n",
       "    <tr>\n",
       "      <th>...</th>\n",
       "      <td>...</td>\n",
       "      <td>...</td>\n",
       "      <td>...</td>\n",
       "      <td>...</td>\n",
       "      <td>...</td>\n",
       "      <td>...</td>\n",
       "      <td>...</td>\n",
       "      <td>...</td>\n",
       "      <td>...</td>\n",
       "      <td>...</td>\n",
       "      <td>...</td>\n",
       "      <td>...</td>\n",
       "      <td>...</td>\n",
       "      <td>...</td>\n",
       "      <td>...</td>\n",
       "      <td>...</td>\n",
       "      <td>...</td>\n",
       "      <td>...</td>\n",
       "      <td>...</td>\n",
       "      <td>...</td>\n",
       "      <td>...</td>\n",
       "    </tr>\n",
       "    <tr>\n",
       "      <th>4833</th>\n",
       "      <td>1980</td>\n",
       "      <td>1000</td>\n",
       "      <td>3.0</td>\n",
       "      <td>2.0</td>\n",
       "      <td>3.0</td>\n",
       "      <td>2.0</td>\n",
       "      <td>False</td>\n",
       "      <td>200000</td>\n",
       "      <td>1</td>\n",
       "      <td>1</td>\n",
       "      <td>...</td>\n",
       "      <td>0</td>\n",
       "      <td>0</td>\n",
       "      <td>0</td>\n",
       "      <td>0</td>\n",
       "      <td>0</td>\n",
       "      <td>1</td>\n",
       "      <td>0</td>\n",
       "      <td>0</td>\n",
       "      <td>24</td>\n",
       "      <td>4</td>\n",
       "    </tr>\n",
       "    <tr>\n",
       "      <th>4834</th>\n",
       "      <td>1980</td>\n",
       "      <td>4500</td>\n",
       "      <td>4.0</td>\n",
       "      <td>4.0</td>\n",
       "      <td>4.0</td>\n",
       "      <td>2.0</td>\n",
       "      <td>False</td>\n",
       "      <td>600000</td>\n",
       "      <td>1</td>\n",
       "      <td>1</td>\n",
       "      <td>...</td>\n",
       "      <td>1</td>\n",
       "      <td>0</td>\n",
       "      <td>0</td>\n",
       "      <td>0</td>\n",
       "      <td>0</td>\n",
       "      <td>1</td>\n",
       "      <td>0</td>\n",
       "      <td>0</td>\n",
       "      <td>24</td>\n",
       "      <td>4</td>\n",
       "    </tr>\n",
       "    <tr>\n",
       "      <th>4835</th>\n",
       "      <td>1990</td>\n",
       "      <td>2000</td>\n",
       "      <td>3.0</td>\n",
       "      <td>2.0</td>\n",
       "      <td>3.0</td>\n",
       "      <td>2.0</td>\n",
       "      <td>False</td>\n",
       "      <td>400000</td>\n",
       "      <td>1</td>\n",
       "      <td>1</td>\n",
       "      <td>...</td>\n",
       "      <td>0</td>\n",
       "      <td>0</td>\n",
       "      <td>0</td>\n",
       "      <td>0</td>\n",
       "      <td>0</td>\n",
       "      <td>1</td>\n",
       "      <td>0</td>\n",
       "      <td>1</td>\n",
       "      <td>24</td>\n",
       "      <td>4</td>\n",
       "    </tr>\n",
       "    <tr>\n",
       "      <th>4836</th>\n",
       "      <td>1890</td>\n",
       "      <td>2500</td>\n",
       "      <td>3.0</td>\n",
       "      <td>3.0</td>\n",
       "      <td>3.0</td>\n",
       "      <td>0.0</td>\n",
       "      <td>False</td>\n",
       "      <td>200000</td>\n",
       "      <td>1</td>\n",
       "      <td>1</td>\n",
       "      <td>...</td>\n",
       "      <td>0</td>\n",
       "      <td>0</td>\n",
       "      <td>0</td>\n",
       "      <td>0</td>\n",
       "      <td>0</td>\n",
       "      <td>1</td>\n",
       "      <td>1</td>\n",
       "      <td>0</td>\n",
       "      <td>24</td>\n",
       "      <td>5</td>\n",
       "    </tr>\n",
       "    <tr>\n",
       "      <th>4837</th>\n",
       "      <td>1920</td>\n",
       "      <td>1000</td>\n",
       "      <td>1.0</td>\n",
       "      <td>2.0</td>\n",
       "      <td>3.0</td>\n",
       "      <td>0.0</td>\n",
       "      <td>False</td>\n",
       "      <td>0</td>\n",
       "      <td>1</td>\n",
       "      <td>0</td>\n",
       "      <td>...</td>\n",
       "      <td>0</td>\n",
       "      <td>0</td>\n",
       "      <td>0</td>\n",
       "      <td>0</td>\n",
       "      <td>0</td>\n",
       "      <td>1</td>\n",
       "      <td>0</td>\n",
       "      <td>1</td>\n",
       "      <td>24</td>\n",
       "      <td>5</td>\n",
       "    </tr>\n",
       "  </tbody>\n",
       "</table>\n",
       "<p>4838 rows × 30 columns</p>\n",
       "</div>"
      ],
      "text/plain": [
       "      year_built  sqft  baths  stories  beds  garage  is_foreclosure   price  \\\n",
       "0           1990  1500    2.0      1.0   3.0     2.0           False  200000   \n",
       "1           2000  2000    3.0      2.0   3.0     2.0           False  200000   \n",
       "2           2000  2000    2.0      2.0   3.0     2.0           False  200000   \n",
       "3           1980   500    2.0      2.0   2.0     1.0           False       0   \n",
       "4           2000  3000    3.0      2.0   4.0     2.0           False  200000   \n",
       "...          ...   ...    ...      ...   ...     ...             ...     ...   \n",
       "4833        1980  1000    3.0      2.0   3.0     2.0           False  200000   \n",
       "4834        1980  4500    4.0      4.0   4.0     2.0           False  600000   \n",
       "4835        1990  2000    3.0      2.0   3.0     2.0           False  400000   \n",
       "4836        1890  2500    3.0      3.0   3.0     0.0           False  200000   \n",
       "4837        1920  1000    1.0      2.0   3.0     0.0           False       0   \n",
       "\n",
       "      basement  central_air  ...  hardwood_floors  laundry_room  \\\n",
       "0            0            1  ...                0             0   \n",
       "1            0            1  ...                0             0   \n",
       "2            0            1  ...                1             0   \n",
       "3            0            1  ...                0             0   \n",
       "4            0            0  ...                0             0   \n",
       "...        ...          ...  ...              ...           ...   \n",
       "4833         1            1  ...                0             0   \n",
       "4834         1            1  ...                1             0   \n",
       "4835         1            1  ...                0             0   \n",
       "4836         1            1  ...                0             0   \n",
       "4837         1            0  ...                0             0   \n",
       "\n",
       "      recreation_facilities  shopping  single_story  two_or_more_stories  \\\n",
       "0                         1         0             1                    0   \n",
       "1                         0         0             0                    1   \n",
       "2                         0         0             0                    1   \n",
       "3                         1         1             0                    1   \n",
       "4                         1         1             0                    1   \n",
       "...                     ...       ...           ...                  ...   \n",
       "4833                      0         0             0                    1   \n",
       "4834                      0         0             0                    1   \n",
       "4835                      0         0             0                    1   \n",
       "4836                      0         0             0                    1   \n",
       "4837                      0         0             0                    1   \n",
       "\n",
       "      view  washer_dryer  city_encoded  type_encoded  \n",
       "0        1             0            28             4  \n",
       "1        0             0            28             4  \n",
       "2        1             0            28             4  \n",
       "3        1             0            28             1  \n",
       "4        1             0            28             4  \n",
       "...    ...           ...           ...           ...  \n",
       "4833     0             0            24             4  \n",
       "4834     0             0            24             4  \n",
       "4835     0             1            24             4  \n",
       "4836     1             0            24             5  \n",
       "4837     0             1            24             5  \n",
       "\n",
       "[4838 rows x 30 columns]"
      ]
     },
     "execution_count": 43,
     "metadata": {},
     "output_type": "execute_result"
    }
   ],
   "source": [
    "df_final_part3"
   ]
  },
  {
   "cell_type": "code",
   "execution_count": 44,
   "metadata": {},
   "outputs": [],
   "source": [
    "\n",
    "# Load the saved pipeline\n",
    "pipeline_filename = '../models/pipeline/final_pipeline.pkl'\n",
    "loaded_pipeline = joblib.load(pipeline_filename)"
   ]
  },
  {
   "cell_type": "code",
   "execution_count": 45,
   "metadata": {},
   "outputs": [
    {
     "data": {
      "text/plain": [
       "3197    400000\n",
       "2526    200000\n",
       "4099    400000\n",
       "1926    600000\n",
       "1536         0\n",
       "         ...  \n",
       "4324    400000\n",
       "3673         0\n",
       "3830    600000\n",
       "1135    200000\n",
       "180          0\n",
       "Name: price, Length: 968, dtype: int64"
      ]
     },
     "execution_count": 45,
     "metadata": {},
     "output_type": "execute_result"
    }
   ],
   "source": [
    "y_test"
   ]
  },
  {
   "cell_type": "code",
   "execution_count": 46,
   "metadata": {},
   "outputs": [
    {
     "name": "stdout",
     "output_type": "stream",
     "text": [
      "[400000. 200000. 400000. 600000.      0.]\n"
     ]
    }
   ],
   "source": [
    "# Take a sample from X_test\n",
    "X_test_sample = X_test[0:5]\n",
    "\n",
    "# Make predictions using the loaded pipeline on sample\n",
    "predicted_prices_sample = loaded_pipeline.predict(X_test_sample)\n",
    "\n",
    "# Display the sample dataframe with predicted prices\n",
    "print(predicted_prices_sample)"
   ]
  },
  {
   "cell_type": "code",
   "execution_count": 47,
   "metadata": {},
   "outputs": [
    {
     "name": "stdout",
     "output_type": "stream",
     "text": [
      "3197    400000\n",
      "2526    200000\n",
      "4099    400000\n",
      "1926    600000\n",
      "1536         0\n",
      "Name: price, dtype: int64\n"
     ]
    }
   ],
   "source": [
    "#compare above output with output below. If it's the same then the model worked\n",
    "print(y_test[0:5])"
   ]
  }
 ],
 "metadata": {
  "kernelspec": {
   "display_name": "base",
   "language": "python",
   "name": "python3"
  },
  "language_info": {
   "codemirror_mode": {
    "name": "ipython",
    "version": 3
   },
   "file_extension": ".py",
   "mimetype": "text/x-python",
   "name": "python",
   "nbconvert_exporter": "python",
   "pygments_lexer": "ipython3",
   "version": "3.10.13"
  }
 },
 "nbformat": 4,
 "nbformat_minor": 2
}
