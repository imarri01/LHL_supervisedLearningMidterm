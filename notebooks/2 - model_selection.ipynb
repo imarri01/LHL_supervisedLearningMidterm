{
 "cells": [
  {
   "cell_type": "markdown",
   "metadata": {},
   "source": [
    "This notebook should include preliminary and baseline modeling.\n",
    "- Try as many different models as possible.\n",
    "- Don't worry about hyperparameter tuning or cross validation here.\n",
    "- Ideas include:\n",
    "    - linear regression\n",
    "    - support vector machines\n",
    "    - random forest\n",
    "    - xgboost"
   ]
  },
  {
   "cell_type": "code",
   "execution_count": 58,
   "metadata": {},
   "outputs": [],
   "source": [
    "from sklearn.linear_model import LinearRegression\n",
    "from sklearn.tree import DecisionTreeRegressor\n",
    "from sklearn.ensemble import RandomForestRegressor\n",
    "from sklearn.neighbors import KNeighborsRegressor\n",
    "from sklearn.ensemble import GradientBoostingRegressor\n",
    "#import lightgbm as lgb\n",
    "from sklearn.linear_model import Ridge\n",
    "from sklearn.preprocessing import PolynomialFeatures\n",
    "from sklearn.linear_model import Lasso\n",
    "from sklearn.linear_model import BayesianRidge\n",
    "from sklearn.svm import SVR\n",
    "import xgboost as xgb\n",
    "import pandas as pd\n",
    "from sklearn.metrics import r2_score\n",
    "from sklearn.metrics import mean_squared_error\n",
    "from sklearn.metrics import mean_absolute_error\n",
    "import warnings\n",
    "\n",
    "# Disable all warnings\n",
    "warnings.filterwarnings('ignore')\n",
    "\n",
    "# import models and fit"
   ]
  },
  {
   "cell_type": "code",
   "execution_count": 59,
   "metadata": {},
   "outputs": [],
   "source": [
    "X_train = pd.read_csv('../data/training/X_train.csv')\n",
    "Y_train = pd.read_csv('../data/training/Y_train.csv')\n",
    "\n",
    "one_hot_encoded_tags = pd.get_dummies(X_train[['type', 'is_foreclosure', 'city']], dtype=int)\n",
    "X_train.drop(columns=['type', 'city', 'is_foreclosure'], inplace=True)\n",
    "X_train = pd.concat([X_train, one_hot_encoded_tags], axis=1)\n",
    "\n",
    "X_train = X_train.values\n",
    "Y_train = Y_train.values"
   ]
  },
  {
   "cell_type": "code",
   "execution_count": 60,
   "metadata": {},
   "outputs": [],
   "source": [
    "linear_regression = LinearRegression()\n",
    "decision_tree = DecisionTreeRegressor()\n",
    "random_forest = RandomForestRegressor()\n",
    "k_neighbors = KNeighborsRegressor()\n",
    "ridge =  Ridge()\n",
    "poly = PolynomialFeatures()\n",
    "lasso = Lasso()\n",
    "bayes = BayesianRidge()\n",
    "svr = SVR()\n",
    "xgboost = xgb.XGBRegressor()"
   ]
  },
  {
   "cell_type": "code",
   "execution_count": 61,
   "metadata": {},
   "outputs": [
    {
     "data": {
      "text/html": [
       "<style>#sk-container-id-7 {color: black;background-color: white;}#sk-container-id-7 pre{padding: 0;}#sk-container-id-7 div.sk-toggleable {background-color: white;}#sk-container-id-7 label.sk-toggleable__label {cursor: pointer;display: block;width: 100%;margin-bottom: 0;padding: 0.3em;box-sizing: border-box;text-align: center;}#sk-container-id-7 label.sk-toggleable__label-arrow:before {content: \"▸\";float: left;margin-right: 0.25em;color: #696969;}#sk-container-id-7 label.sk-toggleable__label-arrow:hover:before {color: black;}#sk-container-id-7 div.sk-estimator:hover label.sk-toggleable__label-arrow:before {color: black;}#sk-container-id-7 div.sk-toggleable__content {max-height: 0;max-width: 0;overflow: hidden;text-align: left;background-color: #f0f8ff;}#sk-container-id-7 div.sk-toggleable__content pre {margin: 0.2em;color: black;border-radius: 0.25em;background-color: #f0f8ff;}#sk-container-id-7 input.sk-toggleable__control:checked~div.sk-toggleable__content {max-height: 200px;max-width: 100%;overflow: auto;}#sk-container-id-7 input.sk-toggleable__control:checked~label.sk-toggleable__label-arrow:before {content: \"▾\";}#sk-container-id-7 div.sk-estimator input.sk-toggleable__control:checked~label.sk-toggleable__label {background-color: #d4ebff;}#sk-container-id-7 div.sk-label input.sk-toggleable__control:checked~label.sk-toggleable__label {background-color: #d4ebff;}#sk-container-id-7 input.sk-hidden--visually {border: 0;clip: rect(1px 1px 1px 1px);clip: rect(1px, 1px, 1px, 1px);height: 1px;margin: -1px;overflow: hidden;padding: 0;position: absolute;width: 1px;}#sk-container-id-7 div.sk-estimator {font-family: monospace;background-color: #f0f8ff;border: 1px dotted black;border-radius: 0.25em;box-sizing: border-box;margin-bottom: 0.5em;}#sk-container-id-7 div.sk-estimator:hover {background-color: #d4ebff;}#sk-container-id-7 div.sk-parallel-item::after {content: \"\";width: 100%;border-bottom: 1px solid gray;flex-grow: 1;}#sk-container-id-7 div.sk-label:hover label.sk-toggleable__label {background-color: #d4ebff;}#sk-container-id-7 div.sk-serial::before {content: \"\";position: absolute;border-left: 1px solid gray;box-sizing: border-box;top: 0;bottom: 0;left: 50%;z-index: 0;}#sk-container-id-7 div.sk-serial {display: flex;flex-direction: column;align-items: center;background-color: white;padding-right: 0.2em;padding-left: 0.2em;position: relative;}#sk-container-id-7 div.sk-item {position: relative;z-index: 1;}#sk-container-id-7 div.sk-parallel {display: flex;align-items: stretch;justify-content: center;background-color: white;position: relative;}#sk-container-id-7 div.sk-item::before, #sk-container-id-7 div.sk-parallel-item::before {content: \"\";position: absolute;border-left: 1px solid gray;box-sizing: border-box;top: 0;bottom: 0;left: 50%;z-index: -1;}#sk-container-id-7 div.sk-parallel-item {display: flex;flex-direction: column;z-index: 1;position: relative;background-color: white;}#sk-container-id-7 div.sk-parallel-item:first-child::after {align-self: flex-end;width: 50%;}#sk-container-id-7 div.sk-parallel-item:last-child::after {align-self: flex-start;width: 50%;}#sk-container-id-7 div.sk-parallel-item:only-child::after {width: 0;}#sk-container-id-7 div.sk-dashed-wrapped {border: 1px dashed gray;margin: 0 0.4em 0.5em 0.4em;box-sizing: border-box;padding-bottom: 0.4em;background-color: white;}#sk-container-id-7 div.sk-label label {font-family: monospace;font-weight: bold;display: inline-block;line-height: 1.2em;}#sk-container-id-7 div.sk-label-container {text-align: center;}#sk-container-id-7 div.sk-container {/* jupyter's `normalize.less` sets `[hidden] { display: none; }` but bootstrap.min.css set `[hidden] { display: none !important; }` so we also need the `!important` here to be able to override the default hidden behavior on the sphinx rendered scikit-learn.org. See: https://github.com/scikit-learn/scikit-learn/issues/21755 */display: inline-block !important;position: relative;}#sk-container-id-7 div.sk-text-repr-fallback {display: none;}</style><div id=\"sk-container-id-7\" class=\"sk-top-container\"><div class=\"sk-text-repr-fallback\"><pre>XGBRegressor(base_score=None, booster=None, callbacks=None,\n",
       "             colsample_bylevel=None, colsample_bynode=None,\n",
       "             colsample_bytree=None, device=None, early_stopping_rounds=None,\n",
       "             enable_categorical=False, eval_metric=None, feature_types=None,\n",
       "             gamma=None, grow_policy=None, importance_type=None,\n",
       "             interaction_constraints=None, learning_rate=None, max_bin=None,\n",
       "             max_cat_threshold=None, max_cat_to_onehot=None,\n",
       "             max_delta_step=None, max_depth=None, max_leaves=None,\n",
       "             min_child_weight=None, missing=nan, monotone_constraints=None,\n",
       "             multi_strategy=None, n_estimators=None, n_jobs=None,\n",
       "             num_parallel_tree=None, random_state=None, ...)</pre><b>In a Jupyter environment, please rerun this cell to show the HTML representation or trust the notebook. <br />On GitHub, the HTML representation is unable to render, please try loading this page with nbviewer.org.</b></div><div class=\"sk-container\" hidden><div class=\"sk-item\"><div class=\"sk-estimator sk-toggleable\"><input class=\"sk-toggleable__control sk-hidden--visually\" id=\"sk-estimator-id-31\" type=\"checkbox\" checked><label for=\"sk-estimator-id-31\" class=\"sk-toggleable__label sk-toggleable__label-arrow\">XGBRegressor</label><div class=\"sk-toggleable__content\"><pre>XGBRegressor(base_score=None, booster=None, callbacks=None,\n",
       "             colsample_bylevel=None, colsample_bynode=None,\n",
       "             colsample_bytree=None, device=None, early_stopping_rounds=None,\n",
       "             enable_categorical=False, eval_metric=None, feature_types=None,\n",
       "             gamma=None, grow_policy=None, importance_type=None,\n",
       "             interaction_constraints=None, learning_rate=None, max_bin=None,\n",
       "             max_cat_threshold=None, max_cat_to_onehot=None,\n",
       "             max_delta_step=None, max_depth=None, max_leaves=None,\n",
       "             min_child_weight=None, missing=nan, monotone_constraints=None,\n",
       "             multi_strategy=None, n_estimators=None, n_jobs=None,\n",
       "             num_parallel_tree=None, random_state=None, ...)</pre></div></div></div></div></div>"
      ],
      "text/plain": [
       "XGBRegressor(base_score=None, booster=None, callbacks=None,\n",
       "             colsample_bylevel=None, colsample_bynode=None,\n",
       "             colsample_bytree=None, device=None, early_stopping_rounds=None,\n",
       "             enable_categorical=False, eval_metric=None, feature_types=None,\n",
       "             gamma=None, grow_policy=None, importance_type=None,\n",
       "             interaction_constraints=None, learning_rate=None, max_bin=None,\n",
       "             max_cat_threshold=None, max_cat_to_onehot=None,\n",
       "             max_delta_step=None, max_depth=None, max_leaves=None,\n",
       "             min_child_weight=None, missing=nan, monotone_constraints=None,\n",
       "             multi_strategy=None, n_estimators=None, n_jobs=None,\n",
       "             num_parallel_tree=None, random_state=None, ...)"
      ]
     },
     "execution_count": 61,
     "metadata": {},
     "output_type": "execute_result"
    }
   ],
   "source": [
    "linear_regression.fit(X_train, Y_train)\n",
    "decision_tree.fit(X_train, Y_train)\n",
    "random_forest.fit(X_train, Y_train)\n",
    "k_neighbors.fit(X_train, Y_train)\n",
    "ridge.fit(X_train, Y_train)\n",
    "X_poly = poly.fit_transform(X_train)\n",
    "poly_regression = LinearRegression()\n",
    "poly_regression.fit(X_poly, Y_train )\n",
    "lasso.fit(X_train, Y_train)\n",
    "bayes.fit(X_train, Y_train)\n",
    "svr.fit(X_train, Y_train)\n",
    "xgboost.fit(X_train, Y_train)"
   ]
  },
  {
   "cell_type": "code",
   "execution_count": 62,
   "metadata": {},
   "outputs": [],
   "source": [
    "linear_regression_pred = linear_regression.predict(X_train)\n",
    "decision_tree_pred = decision_tree.predict(X_train)\n",
    "random_forest_pred = random_forest.predict(X_train)\n",
    "k_neighbors_pred = k_neighbors.predict(X_train)\n",
    "ridge_pred = ridge.predict(X_train)\n",
    "poly__pred = poly_regression.predict(X_poly)\n",
    "lasso_pred = lasso.predict(X_train)\n",
    "bayes_pred =bayes.predict(X_train)\n",
    "svr_pred = svr.predict(X_train)\n",
    "xgboost_pred = xgboost.predict(X_train)"
   ]
  },
  {
   "cell_type": "code",
   "execution_count": null,
   "metadata": {},
   "outputs": [],
   "source": []
  },
  {
   "cell_type": "code",
   "execution_count": 63,
   "metadata": {},
   "outputs": [
    {
     "name": "stdout",
     "output_type": "stream",
     "text": [
      "Linear Regression, R2 Score : 0.464220676338149\n",
      "Linear Regression, Mean Absolute Error Score: 172670.28044776502\n",
      "Linear Regression, Mean Squared Error Score: 178303546867.7965\n",
      "Decision Tree, R2 Score : 0.9999223547303954\n",
      "Decision Tree, Mean Absolute Error Score: 258.3979328165375\n",
      "Decision Tree, Mean Squared Error Score: 25839793.281653747\n",
      "Random Forest, R2 Score : 0.9988023344233344\n",
      "Random Forest, Mean Absolute Error Score: 5182.902772650834\n",
      "Random Forest, Mean Squared Error Score: 398574582.57518977\n",
      "K Neighbours, R2 Score : 0.957839239766859\n",
      "K Neighbours, Mean Absolute Error Score: 35297.15762273902\n",
      "K Neighbours, Mean Squared Error Score: 14030801033.591732\n",
      "Ridge Regression, R2 Score : 0.4641243106807146\n",
      "Ridge Regression, Mean Absolute Error Score: 172830.1920444247\n",
      "Ridge Regression, Mean Squared Error Score: 178335616672.95316\n",
      "Polynomial Regression, R2 Score : 0.9999223545407561\n",
      "Polynomial Regression, Mean Absolute Error Score: 262.49837966361434\n",
      "Polynomial Regression, Mean Squared Error Score: 25839856.392277475\n",
      "Lasso Regression, R2 Score : 0.4642205631819506\n",
      "Lasso Regression, Mean Absolute Error Score: 172678.123710167\n",
      "Lasso Regression, Mean Squared Error Score: 178303584525.37424\n",
      "Bayesian Ridge, R2 Score : 0.25387324503667474\n",
      "Bayesian Ridge, Mean Absolute Error Score: 202847.88013161073\n",
      "Bayesian Ridge, Mean Squared Error Score: 248305675391.9912\n",
      "SVR, R2 Score : -0.05982022420422739\n",
      "SVR, Mean Absolute Error Score: 225903.07951786488\n",
      "SVR, Mean Squared Error Score: 352700630039.808\n",
      "XGboost, R2 Score : 0.9963832715995039\n",
      "XGboost, Mean Absolute Error Score: 24794.90871416432\n",
      "XGboost, Mean Squared Error Score: 1203621478.817942\n"
     ]
    }
   ],
   "source": [
    "print(f'Linear Regression, R2 Score : {r2_score(Y_train, linear_regression_pred)}')\n",
    "print(f'Linear Regression, Mean Absolute Error Score: {mean_absolute_error(Y_train, linear_regression_pred)}')\n",
    "print(f'Linear Regression, Mean Squared Error Score: {mean_squared_error(Y_train, linear_regression_pred)}')\n",
    "print(f'Decision Tree, R2 Score : {r2_score(Y_train, decision_tree_pred)}')\n",
    "print(f'Decision Tree, Mean Absolute Error Score: {mean_absolute_error(Y_train, decision_tree_pred)}')\n",
    "print(f'Decision Tree, Mean Squared Error Score: {mean_squared_error(Y_train, decision_tree_pred)}')\n",
    "print(f'Random Forest, R2 Score : {r2_score(Y_train, random_forest_pred)}')\n",
    "print(f'Random Forest, Mean Absolute Error Score: {mean_absolute_error(Y_train, random_forest_pred)}')\n",
    "print(f'Random Forest, Mean Squared Error Score: {mean_squared_error(Y_train, random_forest_pred)}')\n",
    "print(f'K Neighbours, R2 Score : {r2_score(Y_train, k_neighbors_pred)}')\n",
    "print(f'K Neighbours, Mean Absolute Error Score: {mean_absolute_error(Y_train, k_neighbors_pred)}')\n",
    "print(f'K Neighbours, Mean Squared Error Score: {mean_squared_error(Y_train, k_neighbors_pred)}')\n",
    "print(f'Ridge Regression, R2 Score : {r2_score(Y_train, ridge_pred)}')\n",
    "print(f'Ridge Regression, Mean Absolute Error Score: {mean_absolute_error(Y_train, ridge_pred)}')\n",
    "print(f'Ridge Regression, Mean Squared Error Score: {mean_squared_error(Y_train, ridge_pred)}')\n",
    "print(f'Polynomial Regression, R2 Score : {r2_score(Y_train, poly__pred)}')\n",
    "print(f'Polynomial Regression, Mean Absolute Error Score: {mean_absolute_error(Y_train, poly__pred)}')\n",
    "print(f'Polynomial Regression, Mean Squared Error Score: {mean_squared_error(Y_train, poly__pred)}')\n",
    "print(f'Lasso Regression, R2 Score : {r2_score(Y_train, lasso_pred)}')\n",
    "print(f'Lasso Regression, Mean Absolute Error Score: {mean_absolute_error(Y_train, lasso_pred)}')\n",
    "print(f'Lasso Regression, Mean Squared Error Score: {mean_squared_error(Y_train, lasso_pred)}')\n",
    "print(f'Bayesian Ridge, R2 Score : {r2_score(Y_train, bayes_pred)}')\n",
    "print(f'Bayesian Ridge, Mean Absolute Error Score: {mean_absolute_error(Y_train, bayes_pred)}')\n",
    "print(f'Bayesian Ridge, Mean Squared Error Score: {mean_squared_error(Y_train, bayes_pred)}')\n",
    "print(f'SVR, R2 Score : {r2_score(Y_train, svr_pred)}')\n",
    "print(f'SVR, Mean Absolute Error Score: {mean_absolute_error(Y_train, svr_pred)}')\n",
    "print(f'SVR, Mean Squared Error Score: {mean_squared_error(Y_train, svr_pred)}')\n",
    "print(f'XGboost, R2 Score : {r2_score(Y_train, xgboost_pred)}')\n",
    "print(f'XGboost, Mean Absolute Error Score: {mean_absolute_error(Y_train, xgboost_pred)}')\n",
    "print(f'XGboost, Mean Squared Error Score: {mean_squared_error(Y_train, xgboost_pred)}')\n"
   ]
  },
  {
   "cell_type": "code",
   "execution_count": 64,
   "metadata": {},
   "outputs": [],
   "source": [
    "X_train = pd.read_csv('../data/training/X_train.csv')\n",
    "Y_train = pd.read_csv('../data/training/Y_train.csv')\n",
    "\n",
    "one_hot_encoded_tags = pd.get_dummies(X_train[['type', 'is_foreclosure', 'city']], dtype=int)\n",
    "X_train.drop(columns=['type', 'city', 'is_foreclosure'], inplace=True)\n",
    "X_train = pd.concat([X_train, one_hot_encoded_tags], axis=1)\n",
    "\n",
    "X_train = X_train[['year_built', 'sqft']]\n",
    "\n",
    "X_train = X_train.values\n",
    "Y_train = Y_train.values\n"
   ]
  },
  {
   "cell_type": "code",
   "execution_count": 65,
   "metadata": {},
   "outputs": [
    {
     "data": {
      "text/html": [
       "<style>#sk-container-id-8 {color: black;background-color: white;}#sk-container-id-8 pre{padding: 0;}#sk-container-id-8 div.sk-toggleable {background-color: white;}#sk-container-id-8 label.sk-toggleable__label {cursor: pointer;display: block;width: 100%;margin-bottom: 0;padding: 0.3em;box-sizing: border-box;text-align: center;}#sk-container-id-8 label.sk-toggleable__label-arrow:before {content: \"▸\";float: left;margin-right: 0.25em;color: #696969;}#sk-container-id-8 label.sk-toggleable__label-arrow:hover:before {color: black;}#sk-container-id-8 div.sk-estimator:hover label.sk-toggleable__label-arrow:before {color: black;}#sk-container-id-8 div.sk-toggleable__content {max-height: 0;max-width: 0;overflow: hidden;text-align: left;background-color: #f0f8ff;}#sk-container-id-8 div.sk-toggleable__content pre {margin: 0.2em;color: black;border-radius: 0.25em;background-color: #f0f8ff;}#sk-container-id-8 input.sk-toggleable__control:checked~div.sk-toggleable__content {max-height: 200px;max-width: 100%;overflow: auto;}#sk-container-id-8 input.sk-toggleable__control:checked~label.sk-toggleable__label-arrow:before {content: \"▾\";}#sk-container-id-8 div.sk-estimator input.sk-toggleable__control:checked~label.sk-toggleable__label {background-color: #d4ebff;}#sk-container-id-8 div.sk-label input.sk-toggleable__control:checked~label.sk-toggleable__label {background-color: #d4ebff;}#sk-container-id-8 input.sk-hidden--visually {border: 0;clip: rect(1px 1px 1px 1px);clip: rect(1px, 1px, 1px, 1px);height: 1px;margin: -1px;overflow: hidden;padding: 0;position: absolute;width: 1px;}#sk-container-id-8 div.sk-estimator {font-family: monospace;background-color: #f0f8ff;border: 1px dotted black;border-radius: 0.25em;box-sizing: border-box;margin-bottom: 0.5em;}#sk-container-id-8 div.sk-estimator:hover {background-color: #d4ebff;}#sk-container-id-8 div.sk-parallel-item::after {content: \"\";width: 100%;border-bottom: 1px solid gray;flex-grow: 1;}#sk-container-id-8 div.sk-label:hover label.sk-toggleable__label {background-color: #d4ebff;}#sk-container-id-8 div.sk-serial::before {content: \"\";position: absolute;border-left: 1px solid gray;box-sizing: border-box;top: 0;bottom: 0;left: 50%;z-index: 0;}#sk-container-id-8 div.sk-serial {display: flex;flex-direction: column;align-items: center;background-color: white;padding-right: 0.2em;padding-left: 0.2em;position: relative;}#sk-container-id-8 div.sk-item {position: relative;z-index: 1;}#sk-container-id-8 div.sk-parallel {display: flex;align-items: stretch;justify-content: center;background-color: white;position: relative;}#sk-container-id-8 div.sk-item::before, #sk-container-id-8 div.sk-parallel-item::before {content: \"\";position: absolute;border-left: 1px solid gray;box-sizing: border-box;top: 0;bottom: 0;left: 50%;z-index: -1;}#sk-container-id-8 div.sk-parallel-item {display: flex;flex-direction: column;z-index: 1;position: relative;background-color: white;}#sk-container-id-8 div.sk-parallel-item:first-child::after {align-self: flex-end;width: 50%;}#sk-container-id-8 div.sk-parallel-item:last-child::after {align-self: flex-start;width: 50%;}#sk-container-id-8 div.sk-parallel-item:only-child::after {width: 0;}#sk-container-id-8 div.sk-dashed-wrapped {border: 1px dashed gray;margin: 0 0.4em 0.5em 0.4em;box-sizing: border-box;padding-bottom: 0.4em;background-color: white;}#sk-container-id-8 div.sk-label label {font-family: monospace;font-weight: bold;display: inline-block;line-height: 1.2em;}#sk-container-id-8 div.sk-label-container {text-align: center;}#sk-container-id-8 div.sk-container {/* jupyter's `normalize.less` sets `[hidden] { display: none; }` but bootstrap.min.css set `[hidden] { display: none !important; }` so we also need the `!important` here to be able to override the default hidden behavior on the sphinx rendered scikit-learn.org. See: https://github.com/scikit-learn/scikit-learn/issues/21755 */display: inline-block !important;position: relative;}#sk-container-id-8 div.sk-text-repr-fallback {display: none;}</style><div id=\"sk-container-id-8\" class=\"sk-top-container\"><div class=\"sk-text-repr-fallback\"><pre>XGBRegressor(base_score=None, booster=None, callbacks=None,\n",
       "             colsample_bylevel=None, colsample_bynode=None,\n",
       "             colsample_bytree=None, device=None, early_stopping_rounds=None,\n",
       "             enable_categorical=False, eval_metric=None, feature_types=None,\n",
       "             gamma=None, grow_policy=None, importance_type=None,\n",
       "             interaction_constraints=None, learning_rate=None, max_bin=None,\n",
       "             max_cat_threshold=None, max_cat_to_onehot=None,\n",
       "             max_delta_step=None, max_depth=None, max_leaves=None,\n",
       "             min_child_weight=None, missing=nan, monotone_constraints=None,\n",
       "             multi_strategy=None, n_estimators=None, n_jobs=None,\n",
       "             num_parallel_tree=None, random_state=None, ...)</pre><b>In a Jupyter environment, please rerun this cell to show the HTML representation or trust the notebook. <br />On GitHub, the HTML representation is unable to render, please try loading this page with nbviewer.org.</b></div><div class=\"sk-container\" hidden><div class=\"sk-item\"><div class=\"sk-estimator sk-toggleable\"><input class=\"sk-toggleable__control sk-hidden--visually\" id=\"sk-estimator-id-32\" type=\"checkbox\" checked><label for=\"sk-estimator-id-32\" class=\"sk-toggleable__label sk-toggleable__label-arrow\">XGBRegressor</label><div class=\"sk-toggleable__content\"><pre>XGBRegressor(base_score=None, booster=None, callbacks=None,\n",
       "             colsample_bylevel=None, colsample_bynode=None,\n",
       "             colsample_bytree=None, device=None, early_stopping_rounds=None,\n",
       "             enable_categorical=False, eval_metric=None, feature_types=None,\n",
       "             gamma=None, grow_policy=None, importance_type=None,\n",
       "             interaction_constraints=None, learning_rate=None, max_bin=None,\n",
       "             max_cat_threshold=None, max_cat_to_onehot=None,\n",
       "             max_delta_step=None, max_depth=None, max_leaves=None,\n",
       "             min_child_weight=None, missing=nan, monotone_constraints=None,\n",
       "             multi_strategy=None, n_estimators=None, n_jobs=None,\n",
       "             num_parallel_tree=None, random_state=None, ...)</pre></div></div></div></div></div>"
      ],
      "text/plain": [
       "XGBRegressor(base_score=None, booster=None, callbacks=None,\n",
       "             colsample_bylevel=None, colsample_bynode=None,\n",
       "             colsample_bytree=None, device=None, early_stopping_rounds=None,\n",
       "             enable_categorical=False, eval_metric=None, feature_types=None,\n",
       "             gamma=None, grow_policy=None, importance_type=None,\n",
       "             interaction_constraints=None, learning_rate=None, max_bin=None,\n",
       "             max_cat_threshold=None, max_cat_to_onehot=None,\n",
       "             max_delta_step=None, max_depth=None, max_leaves=None,\n",
       "             min_child_weight=None, missing=nan, monotone_constraints=None,\n",
       "             multi_strategy=None, n_estimators=None, n_jobs=None,\n",
       "             num_parallel_tree=None, random_state=None, ...)"
      ]
     },
     "execution_count": 65,
     "metadata": {},
     "output_type": "execute_result"
    }
   ],
   "source": [
    "linear_regression.fit(X_train, Y_train)\n",
    "decision_tree.fit(X_train, Y_train)\n",
    "random_forest.fit(X_train, Y_train)\n",
    "k_neighbors.fit(X_train, Y_train)\n",
    "ridge.fit(X_train, Y_train)\n",
    "X_poly = poly.fit_transform(X_train)\n",
    "poly_regression = LinearRegression()\n",
    "poly_regression.fit(X_poly, Y_train )\n",
    "lasso.fit(X_train, Y_train)\n",
    "bayes.fit(X_train, Y_train)\n",
    "svr.fit(X_train, Y_train)\n",
    "xgboost.fit(X_train, Y_train)"
   ]
  },
  {
   "cell_type": "code",
   "execution_count": 66,
   "metadata": {},
   "outputs": [],
   "source": [
    "linear_regression_pred = linear_regression.predict(X_train)\n",
    "decision_tree_pred = decision_tree.predict(X_train)\n",
    "random_forest_pred = random_forest.predict(X_train)\n",
    "k_neighbors_pred = k_neighbors.predict(X_train)\n",
    "ridge_pred = ridge.predict(X_train)\n",
    "poly__pred = poly_regression.predict(X_poly)\n",
    "lasso_pred = lasso.predict(X_train)\n",
    "bayes_pred =bayes.predict(X_train)\n",
    "svr_pred = svr.predict(X_train)\n",
    "xgboost_pred = xgboost.predict(X_train)"
   ]
  },
  {
   "cell_type": "code",
   "execution_count": 67,
   "metadata": {},
   "outputs": [
    {
     "name": "stdout",
     "output_type": "stream",
     "text": [
      "Linear Regression, R2 Score : 0.2537864258620596\n",
      "Linear Regression, Mean Absolute Error Score: 202915.2177756335\n",
      "Linear Regression, Mean Squared Error Score: 248334568195.58847\n",
      "Decision Tree, R2 Score : 0.41578407971725173\n",
      "Decision Tree, Mean Absolute Error Score: 173031.23719522022\n",
      "Decision Tree, Mean Squared Error Score: 194422901598.9273\n",
      "Random Forest, R2 Score : 0.4151234348724978\n",
      "Random Forest, Mean Absolute Error Score: 173608.72158408441\n",
      "Random Forest, Mean Squared Error Score: 194642759502.8017\n",
      "K Neighbours, R2 Score : 0.33433033230152986\n",
      "K Neighbours, Mean Absolute Error Score: 179948.32041343668\n",
      "K Neighbours, Mean Squared Error Score: 221530129198.9664\n",
      "Ridge Regression, R2 Score : 0.2537864258620597\n",
      "Ridge Regression, Mean Absolute Error Score: 202915.21777063428\n",
      "Ridge Regression, Mean Squared Error Score: 248334568195.58844\n",
      "Polynomial Regression, R2 Score : 0.2783663836288113\n",
      "Polynomial Regression, Mean Absolute Error Score: 195060.5565566467\n",
      "Polynomial Regression, Mean Squared Error Score: 240154533136.15692\n",
      "Lasso Regression, R2 Score : 0.25378642586205724\n",
      "Lasso Regression, Mean Absolute Error Score: 202915.21804919452\n",
      "Lasso Regression, Mean Squared Error Score: 248334568195.58923\n",
      "Bayesian Ridge, R2 Score : 0.25378222128996375\n",
      "Bayesian Ridge, Mean Absolute Error Score: 202874.69679068177\n",
      "Bayesian Ridge, Mean Squared Error Score: 248335967447.2666\n",
      "SVR, R2 Score : -0.0596463896121846\n",
      "SVR, Mean Absolute Error Score: 225876.13465190027\n",
      "SVR, Mean Squared Error Score: 352642779124.4018\n",
      "XGboost, R2 Score : 0.4157834257072549\n",
      "XGboost, Mean Absolute Error Score: 173032.2415985228\n",
      "XGboost, Mean Squared Error Score: 194423119248.80096\n"
     ]
    }
   ],
   "source": [
    "print(f'Linear Regression, R2 Score : {r2_score(Y_train, linear_regression_pred)}')\n",
    "print(f'Linear Regression, Mean Absolute Error Score: {mean_absolute_error(Y_train, linear_regression_pred)}')\n",
    "print(f'Linear Regression, Mean Squared Error Score: {mean_squared_error(Y_train, linear_regression_pred)}')\n",
    "print(f'Decision Tree, R2 Score : {r2_score(Y_train, decision_tree_pred)}')\n",
    "print(f'Decision Tree, Mean Absolute Error Score: {mean_absolute_error(Y_train, decision_tree_pred)}')\n",
    "print(f'Decision Tree, Mean Squared Error Score: {mean_squared_error(Y_train, decision_tree_pred)}')\n",
    "print(f'Random Forest, R2 Score : {r2_score(Y_train, random_forest_pred)}')\n",
    "print(f'Random Forest, Mean Absolute Error Score: {mean_absolute_error(Y_train, random_forest_pred)}')\n",
    "print(f'Random Forest, Mean Squared Error Score: {mean_squared_error(Y_train, random_forest_pred)}')\n",
    "print(f'K Neighbours, R2 Score : {r2_score(Y_train, k_neighbors_pred)}')\n",
    "print(f'K Neighbours, Mean Absolute Error Score: {mean_absolute_error(Y_train, k_neighbors_pred)}')\n",
    "print(f'K Neighbours, Mean Squared Error Score: {mean_squared_error(Y_train, k_neighbors_pred)}')\n",
    "print(f'Ridge Regression, R2 Score : {r2_score(Y_train, ridge_pred)}')\n",
    "print(f'Ridge Regression, Mean Absolute Error Score: {mean_absolute_error(Y_train, ridge_pred)}')\n",
    "print(f'Ridge Regression, Mean Squared Error Score: {mean_squared_error(Y_train, ridge_pred)}')\n",
    "print(f'Polynomial Regression, R2 Score : {r2_score(Y_train, poly__pred)}')\n",
    "print(f'Polynomial Regression, Mean Absolute Error Score: {mean_absolute_error(Y_train, poly__pred)}')\n",
    "print(f'Polynomial Regression, Mean Squared Error Score: {mean_squared_error(Y_train, poly__pred)}')\n",
    "print(f'Lasso Regression, R2 Score : {r2_score(Y_train, lasso_pred)}')\n",
    "print(f'Lasso Regression, Mean Absolute Error Score: {mean_absolute_error(Y_train, lasso_pred)}')\n",
    "print(f'Lasso Regression, Mean Squared Error Score: {mean_squared_error(Y_train, lasso_pred)}')\n",
    "print(f'Bayesian Ridge, R2 Score : {r2_score(Y_train, bayes_pred)}')\n",
    "print(f'Bayesian Ridge, Mean Absolute Error Score: {mean_absolute_error(Y_train, bayes_pred)}')\n",
    "print(f'Bayesian Ridge, Mean Squared Error Score: {mean_squared_error(Y_train, bayes_pred)}')\n",
    "print(f'SVR, R2 Score : {r2_score(Y_train, svr_pred)}')\n",
    "print(f'SVR, Mean Absolute Error Score: {mean_absolute_error(Y_train, svr_pred)}')\n",
    "print(f'SVR, Mean Squared Error Score: {mean_squared_error(Y_train, svr_pred)}')\n",
    "print(f'XGboost, R2 Score : {r2_score(Y_train, xgboost_pred)}')\n",
    "print(f'XGboost, Mean Absolute Error Score: {mean_absolute_error(Y_train, xgboost_pred)}')\n",
    "print(f'XGboost, Mean Squared Error Score: {mean_squared_error(Y_train, xgboost_pred)}')"
   ]
  },
  {
   "cell_type": "markdown",
   "metadata": {},
   "source": [
    "### Models"
   ]
  },
  {
   "cell_type": "markdown",
   "metadata": {},
   "source": [
    "##### Linear Regression"
   ]
  },
  {
   "cell_type": "code",
   "execution_count": 68,
   "metadata": {},
   "outputs": [],
   "source": [
    "import pandas as pd\n",
    "from sklearn.model_selection import train_test_split\n",
    "from sklearn.linear_model import LinearRegression\n",
    "from sklearn.preprocessing import OneHotEncoder\n",
    "from sklearn.compose import ColumnTransformer\n",
    "from sklearn.pipeline import Pipeline\n",
    "from sklearn.impute import SimpleImputer"
   ]
  },
  {
   "cell_type": "code",
   "execution_count": 69,
   "metadata": {},
   "outputs": [],
   "source": [
    "X_train = pd.read_csv('../data/training/X_train.csv')\n",
    "y_train = pd.read_csv('../data/training/y_train.csv')\n",
    "X_test = pd.read_csv('../data/testing/X_test.csv')\n",
    "y_test = pd.read_csv('../data/testing/y_test.csv')"
   ]
  },
  {
   "cell_type": "code",
   "execution_count": 70,
   "metadata": {},
   "outputs": [],
   "source": [
    "# List of categorical features\n",
    "categorical_features = ['type', 'city', 'is_foreclosure']"
   ]
  },
  {
   "cell_type": "code",
   "execution_count": 71,
   "metadata": {},
   "outputs": [],
   "source": [
    "\n",
    "# Preprocess the data\n",
    "# I added handled_unknown = ignore because when I executed this the first time I got an error (ValueError: Found unknown categories ['Tolleson'] in column 1 during transform)\n",
    "# so I added this for it to ignore that error because I wasn't sure where that was coming from\n",
    "preprocessor = ColumnTransformer(\n",
    "    transformers=[\n",
    "        ('num', SimpleImputer(strategy='mean'), [\n",
    "         col for col in X.columns if col not in categorical_features]),\n",
    "        ('cat', OneHotEncoder(handle_unknown='ignore'), categorical_features)\n",
    "    ])"
   ]
  },
  {
   "cell_type": "code",
   "execution_count": 72,
   "metadata": {},
   "outputs": [],
   "source": [
    "# Create a pipeline that first transforms the data and then fits the model\n",
    "pipeline = Pipeline(steps=[('preprocessor', preprocessor),\n",
    "                           ('model', LinearRegression())])"
   ]
  },
  {
   "cell_type": "code",
   "execution_count": 73,
   "metadata": {},
   "outputs": [],
   "source": [
    "# Split the data into training and testing sets\n",
    "X_train, X_test, y_train, y_test = train_test_split(\n",
    "    X, y, test_size=0.2, random_state=42)"
   ]
  },
  {
   "cell_type": "code",
   "execution_count": 74,
   "metadata": {},
   "outputs": [
    {
     "data": {
      "text/html": [
       "<style>#sk-container-id-9 {color: black;background-color: white;}#sk-container-id-9 pre{padding: 0;}#sk-container-id-9 div.sk-toggleable {background-color: white;}#sk-container-id-9 label.sk-toggleable__label {cursor: pointer;display: block;width: 100%;margin-bottom: 0;padding: 0.3em;box-sizing: border-box;text-align: center;}#sk-container-id-9 label.sk-toggleable__label-arrow:before {content: \"▸\";float: left;margin-right: 0.25em;color: #696969;}#sk-container-id-9 label.sk-toggleable__label-arrow:hover:before {color: black;}#sk-container-id-9 div.sk-estimator:hover label.sk-toggleable__label-arrow:before {color: black;}#sk-container-id-9 div.sk-toggleable__content {max-height: 0;max-width: 0;overflow: hidden;text-align: left;background-color: #f0f8ff;}#sk-container-id-9 div.sk-toggleable__content pre {margin: 0.2em;color: black;border-radius: 0.25em;background-color: #f0f8ff;}#sk-container-id-9 input.sk-toggleable__control:checked~div.sk-toggleable__content {max-height: 200px;max-width: 100%;overflow: auto;}#sk-container-id-9 input.sk-toggleable__control:checked~label.sk-toggleable__label-arrow:before {content: \"▾\";}#sk-container-id-9 div.sk-estimator input.sk-toggleable__control:checked~label.sk-toggleable__label {background-color: #d4ebff;}#sk-container-id-9 div.sk-label input.sk-toggleable__control:checked~label.sk-toggleable__label {background-color: #d4ebff;}#sk-container-id-9 input.sk-hidden--visually {border: 0;clip: rect(1px 1px 1px 1px);clip: rect(1px, 1px, 1px, 1px);height: 1px;margin: -1px;overflow: hidden;padding: 0;position: absolute;width: 1px;}#sk-container-id-9 div.sk-estimator {font-family: monospace;background-color: #f0f8ff;border: 1px dotted black;border-radius: 0.25em;box-sizing: border-box;margin-bottom: 0.5em;}#sk-container-id-9 div.sk-estimator:hover {background-color: #d4ebff;}#sk-container-id-9 div.sk-parallel-item::after {content: \"\";width: 100%;border-bottom: 1px solid gray;flex-grow: 1;}#sk-container-id-9 div.sk-label:hover label.sk-toggleable__label {background-color: #d4ebff;}#sk-container-id-9 div.sk-serial::before {content: \"\";position: absolute;border-left: 1px solid gray;box-sizing: border-box;top: 0;bottom: 0;left: 50%;z-index: 0;}#sk-container-id-9 div.sk-serial {display: flex;flex-direction: column;align-items: center;background-color: white;padding-right: 0.2em;padding-left: 0.2em;position: relative;}#sk-container-id-9 div.sk-item {position: relative;z-index: 1;}#sk-container-id-9 div.sk-parallel {display: flex;align-items: stretch;justify-content: center;background-color: white;position: relative;}#sk-container-id-9 div.sk-item::before, #sk-container-id-9 div.sk-parallel-item::before {content: \"\";position: absolute;border-left: 1px solid gray;box-sizing: border-box;top: 0;bottom: 0;left: 50%;z-index: -1;}#sk-container-id-9 div.sk-parallel-item {display: flex;flex-direction: column;z-index: 1;position: relative;background-color: white;}#sk-container-id-9 div.sk-parallel-item:first-child::after {align-self: flex-end;width: 50%;}#sk-container-id-9 div.sk-parallel-item:last-child::after {align-self: flex-start;width: 50%;}#sk-container-id-9 div.sk-parallel-item:only-child::after {width: 0;}#sk-container-id-9 div.sk-dashed-wrapped {border: 1px dashed gray;margin: 0 0.4em 0.5em 0.4em;box-sizing: border-box;padding-bottom: 0.4em;background-color: white;}#sk-container-id-9 div.sk-label label {font-family: monospace;font-weight: bold;display: inline-block;line-height: 1.2em;}#sk-container-id-9 div.sk-label-container {text-align: center;}#sk-container-id-9 div.sk-container {/* jupyter's `normalize.less` sets `[hidden] { display: none; }` but bootstrap.min.css set `[hidden] { display: none !important; }` so we also need the `!important` here to be able to override the default hidden behavior on the sphinx rendered scikit-learn.org. See: https://github.com/scikit-learn/scikit-learn/issues/21755 */display: inline-block !important;position: relative;}#sk-container-id-9 div.sk-text-repr-fallback {display: none;}</style><div id=\"sk-container-id-9\" class=\"sk-top-container\"><div class=\"sk-text-repr-fallback\"><pre>Pipeline(steps=[(&#x27;preprocessor&#x27;,\n",
       "                 ColumnTransformer(transformers=[(&#x27;num&#x27;, SimpleImputer(),\n",
       "                                                  [&#x27;year_built&#x27;, &#x27;sqft&#x27;,\n",
       "                                                   &#x27;baths&#x27;, &#x27;stories&#x27;, &#x27;beds&#x27;,\n",
       "                                                   &#x27;garage&#x27;, &#x27;house_id&#x27;,\n",
       "                                                   &#x27;basement&#x27;, &#x27;central_air&#x27;,\n",
       "                                                   &#x27;central_heat&#x27;, &#x27;city_view&#x27;,\n",
       "                                                   &#x27;community_outdoor_space&#x27;,\n",
       "                                                   &#x27;community_security_features&#x27;,\n",
       "                                                   &#x27;dining_room&#x27;, &#x27;dishwasher&#x27;,\n",
       "                                                   &#x27;fireplace&#x27;, &#x27;forced_air&#x27;,\n",
       "                                                   &#x27;garage_1_or_more&#x27;,\n",
       "                                                   &#x27;garage_2_or_more&#x27;,\n",
       "                                                   &#x27;hardwood_floors&#x27;,\n",
       "                                                   &#x27;laundry_room&#x27;,\n",
       "                                                   &#x27;recreation_facilities&#x27;,\n",
       "                                                   &#x27;shopping&#x27;, &#x27;single_story&#x27;,\n",
       "                                                   &#x27;two_or_more_stories&#x27;,\n",
       "                                                   &#x27;view&#x27;, &#x27;washer_dryer&#x27;]),\n",
       "                                                 (&#x27;cat&#x27;,\n",
       "                                                  OneHotEncoder(handle_unknown=&#x27;ignore&#x27;),\n",
       "                                                  [&#x27;type&#x27;, &#x27;city&#x27;,\n",
       "                                                   &#x27;is_foreclosure&#x27;])])),\n",
       "                (&#x27;model&#x27;, LinearRegression())])</pre><b>In a Jupyter environment, please rerun this cell to show the HTML representation or trust the notebook. <br />On GitHub, the HTML representation is unable to render, please try loading this page with nbviewer.org.</b></div><div class=\"sk-container\" hidden><div class=\"sk-item sk-dashed-wrapped\"><div class=\"sk-label-container\"><div class=\"sk-label sk-toggleable\"><input class=\"sk-toggleable__control sk-hidden--visually\" id=\"sk-estimator-id-33\" type=\"checkbox\" ><label for=\"sk-estimator-id-33\" class=\"sk-toggleable__label sk-toggleable__label-arrow\">Pipeline</label><div class=\"sk-toggleable__content\"><pre>Pipeline(steps=[(&#x27;preprocessor&#x27;,\n",
       "                 ColumnTransformer(transformers=[(&#x27;num&#x27;, SimpleImputer(),\n",
       "                                                  [&#x27;year_built&#x27;, &#x27;sqft&#x27;,\n",
       "                                                   &#x27;baths&#x27;, &#x27;stories&#x27;, &#x27;beds&#x27;,\n",
       "                                                   &#x27;garage&#x27;, &#x27;house_id&#x27;,\n",
       "                                                   &#x27;basement&#x27;, &#x27;central_air&#x27;,\n",
       "                                                   &#x27;central_heat&#x27;, &#x27;city_view&#x27;,\n",
       "                                                   &#x27;community_outdoor_space&#x27;,\n",
       "                                                   &#x27;community_security_features&#x27;,\n",
       "                                                   &#x27;dining_room&#x27;, &#x27;dishwasher&#x27;,\n",
       "                                                   &#x27;fireplace&#x27;, &#x27;forced_air&#x27;,\n",
       "                                                   &#x27;garage_1_or_more&#x27;,\n",
       "                                                   &#x27;garage_2_or_more&#x27;,\n",
       "                                                   &#x27;hardwood_floors&#x27;,\n",
       "                                                   &#x27;laundry_room&#x27;,\n",
       "                                                   &#x27;recreation_facilities&#x27;,\n",
       "                                                   &#x27;shopping&#x27;, &#x27;single_story&#x27;,\n",
       "                                                   &#x27;two_or_more_stories&#x27;,\n",
       "                                                   &#x27;view&#x27;, &#x27;washer_dryer&#x27;]),\n",
       "                                                 (&#x27;cat&#x27;,\n",
       "                                                  OneHotEncoder(handle_unknown=&#x27;ignore&#x27;),\n",
       "                                                  [&#x27;type&#x27;, &#x27;city&#x27;,\n",
       "                                                   &#x27;is_foreclosure&#x27;])])),\n",
       "                (&#x27;model&#x27;, LinearRegression())])</pre></div></div></div><div class=\"sk-serial\"><div class=\"sk-item sk-dashed-wrapped\"><div class=\"sk-label-container\"><div class=\"sk-label sk-toggleable\"><input class=\"sk-toggleable__control sk-hidden--visually\" id=\"sk-estimator-id-34\" type=\"checkbox\" ><label for=\"sk-estimator-id-34\" class=\"sk-toggleable__label sk-toggleable__label-arrow\">preprocessor: ColumnTransformer</label><div class=\"sk-toggleable__content\"><pre>ColumnTransformer(transformers=[(&#x27;num&#x27;, SimpleImputer(),\n",
       "                                 [&#x27;year_built&#x27;, &#x27;sqft&#x27;, &#x27;baths&#x27;, &#x27;stories&#x27;,\n",
       "                                  &#x27;beds&#x27;, &#x27;garage&#x27;, &#x27;house_id&#x27;, &#x27;basement&#x27;,\n",
       "                                  &#x27;central_air&#x27;, &#x27;central_heat&#x27;, &#x27;city_view&#x27;,\n",
       "                                  &#x27;community_outdoor_space&#x27;,\n",
       "                                  &#x27;community_security_features&#x27;, &#x27;dining_room&#x27;,\n",
       "                                  &#x27;dishwasher&#x27;, &#x27;fireplace&#x27;, &#x27;forced_air&#x27;,\n",
       "                                  &#x27;garage_1_or_more&#x27;, &#x27;garage_2_or_more&#x27;,\n",
       "                                  &#x27;hardwood_floors&#x27;, &#x27;laundry_room&#x27;,\n",
       "                                  &#x27;recreation_facilities&#x27;, &#x27;shopping&#x27;,\n",
       "                                  &#x27;single_story&#x27;, &#x27;two_or_more_stories&#x27;, &#x27;view&#x27;,\n",
       "                                  &#x27;washer_dryer&#x27;]),\n",
       "                                (&#x27;cat&#x27;, OneHotEncoder(handle_unknown=&#x27;ignore&#x27;),\n",
       "                                 [&#x27;type&#x27;, &#x27;city&#x27;, &#x27;is_foreclosure&#x27;])])</pre></div></div></div><div class=\"sk-parallel\"><div class=\"sk-parallel-item\"><div class=\"sk-item\"><div class=\"sk-label-container\"><div class=\"sk-label sk-toggleable\"><input class=\"sk-toggleable__control sk-hidden--visually\" id=\"sk-estimator-id-35\" type=\"checkbox\" ><label for=\"sk-estimator-id-35\" class=\"sk-toggleable__label sk-toggleable__label-arrow\">num</label><div class=\"sk-toggleable__content\"><pre>[&#x27;year_built&#x27;, &#x27;sqft&#x27;, &#x27;baths&#x27;, &#x27;stories&#x27;, &#x27;beds&#x27;, &#x27;garage&#x27;, &#x27;house_id&#x27;, &#x27;basement&#x27;, &#x27;central_air&#x27;, &#x27;central_heat&#x27;, &#x27;city_view&#x27;, &#x27;community_outdoor_space&#x27;, &#x27;community_security_features&#x27;, &#x27;dining_room&#x27;, &#x27;dishwasher&#x27;, &#x27;fireplace&#x27;, &#x27;forced_air&#x27;, &#x27;garage_1_or_more&#x27;, &#x27;garage_2_or_more&#x27;, &#x27;hardwood_floors&#x27;, &#x27;laundry_room&#x27;, &#x27;recreation_facilities&#x27;, &#x27;shopping&#x27;, &#x27;single_story&#x27;, &#x27;two_or_more_stories&#x27;, &#x27;view&#x27;, &#x27;washer_dryer&#x27;]</pre></div></div></div><div class=\"sk-serial\"><div class=\"sk-item\"><div class=\"sk-estimator sk-toggleable\"><input class=\"sk-toggleable__control sk-hidden--visually\" id=\"sk-estimator-id-36\" type=\"checkbox\" ><label for=\"sk-estimator-id-36\" class=\"sk-toggleable__label sk-toggleable__label-arrow\">SimpleImputer</label><div class=\"sk-toggleable__content\"><pre>SimpleImputer()</pre></div></div></div></div></div></div><div class=\"sk-parallel-item\"><div class=\"sk-item\"><div class=\"sk-label-container\"><div class=\"sk-label sk-toggleable\"><input class=\"sk-toggleable__control sk-hidden--visually\" id=\"sk-estimator-id-37\" type=\"checkbox\" ><label for=\"sk-estimator-id-37\" class=\"sk-toggleable__label sk-toggleable__label-arrow\">cat</label><div class=\"sk-toggleable__content\"><pre>[&#x27;type&#x27;, &#x27;city&#x27;, &#x27;is_foreclosure&#x27;]</pre></div></div></div><div class=\"sk-serial\"><div class=\"sk-item\"><div class=\"sk-estimator sk-toggleable\"><input class=\"sk-toggleable__control sk-hidden--visually\" id=\"sk-estimator-id-38\" type=\"checkbox\" ><label for=\"sk-estimator-id-38\" class=\"sk-toggleable__label sk-toggleable__label-arrow\">OneHotEncoder</label><div class=\"sk-toggleable__content\"><pre>OneHotEncoder(handle_unknown=&#x27;ignore&#x27;)</pre></div></div></div></div></div></div></div></div><div class=\"sk-item\"><div class=\"sk-estimator sk-toggleable\"><input class=\"sk-toggleable__control sk-hidden--visually\" id=\"sk-estimator-id-39\" type=\"checkbox\" ><label for=\"sk-estimator-id-39\" class=\"sk-toggleable__label sk-toggleable__label-arrow\">LinearRegression</label><div class=\"sk-toggleable__content\"><pre>LinearRegression()</pre></div></div></div></div></div></div></div>"
      ],
      "text/plain": [
       "Pipeline(steps=[('preprocessor',\n",
       "                 ColumnTransformer(transformers=[('num', SimpleImputer(),\n",
       "                                                  ['year_built', 'sqft',\n",
       "                                                   'baths', 'stories', 'beds',\n",
       "                                                   'garage', 'house_id',\n",
       "                                                   'basement', 'central_air',\n",
       "                                                   'central_heat', 'city_view',\n",
       "                                                   'community_outdoor_space',\n",
       "                                                   'community_security_features',\n",
       "                                                   'dining_room', 'dishwasher',\n",
       "                                                   'fireplace', 'forced_air',\n",
       "                                                   'garage_1_or_more',\n",
       "                                                   'garage_2_or_more',\n",
       "                                                   'hardwood_floors',\n",
       "                                                   'laundry_room',\n",
       "                                                   'recreation_facilities',\n",
       "                                                   'shopping', 'single_story',\n",
       "                                                   'two_or_more_stories',\n",
       "                                                   'view', 'washer_dryer']),\n",
       "                                                 ('cat',\n",
       "                                                  OneHotEncoder(handle_unknown='ignore'),\n",
       "                                                  ['type', 'city',\n",
       "                                                   'is_foreclosure'])])),\n",
       "                ('model', LinearRegression())])"
      ]
     },
     "execution_count": 74,
     "metadata": {},
     "output_type": "execute_result"
    }
   ],
   "source": [
    "# Fit the model\n",
    "pipeline.fit(X_train, y_train)"
   ]
  },
  {
   "cell_type": "code",
   "execution_count": 75,
   "metadata": {},
   "outputs": [],
   "source": [
    "# Predict on the test set\n",
    "y_pred = pipeline.predict(X_test)\n",
    "#X_test"
   ]
  },
  {
   "cell_type": "code",
   "execution_count": 76,
   "metadata": {},
   "outputs": [
    {
     "name": "stdout",
     "output_type": "stream",
     "text": [
      "Mean Absolute Error: 183432.1302755309\n",
      "Mean Squared Error: 185559460785.79523\n",
      "R^2 Score: 0.4390419224536294\n"
     ]
    }
   ],
   "source": [
    "# Evaluate the model\n",
    "from sklearn.metrics import mean_absolute_error, mean_squared_error, r2_score\n",
    "\n",
    "mae = mean_absolute_error(y_test, y_pred)\n",
    "mse = mean_squared_error(y_test, y_pred)\n",
    "r2 = r2_score(y_test, y_pred)\n",
    "\n",
    "print(f\"Mean Absolute Error: {mae}\")\n",
    "print(f\"Mean Squared Error: {mse}\")\n",
    "print(f\"R^2 Score: {r2}\")"
   ]
  },
  {
   "cell_type": "markdown",
   "metadata": {},
   "source": [
    "##### Ridge Regression"
   ]
  },
  {
   "cell_type": "code",
   "execution_count": 77,
   "metadata": {},
   "outputs": [
    {
     "name": "stdout",
     "output_type": "stream",
     "text": [
      "Ridge Regression - Mean Absolute Error: 183560.2438886059\n",
      "Ridge Regression - Mean Squared Error: 185582330054.3232\n",
      "Ridge Regression - R^2 Score: 0.43897278719717825\n"
     ]
    }
   ],
   "source": [
    "from sklearn.linear_model import Ridge\n",
    "\n",
    "#added something here for the push to work\n",
    "\n",
    "# Initialize the model\n",
    "ridge_reg = Ridge(alpha=1.0)\n",
    "\n",
    "# Create a pipeline\n",
    "pipeline_ridge = Pipeline(steps=[('preprocessor', preprocessor),\n",
    "                                 ('model', ridge_reg)])\n",
    "\n",
    "# Fit the model\n",
    "pipeline_ridge.fit(X_train, y_train)\n",
    "\n",
    "# Predict on the test set\n",
    "y_pred_ridge = pipeline_ridge.predict(X_test)\n",
    "\n",
    "# Evaluate the model\n",
    "mae_ridge = mean_absolute_error(y_test, y_pred_ridge)\n",
    "mse_ridge = mean_squared_error(y_test, y_pred_ridge)\n",
    "r2_ridge = r2_score(y_test, y_pred_ridge)\n",
    "\n",
    "print(f\"Ridge Regression - Mean Absolute Error: {mae_ridge}\")\n",
    "print(f\"Ridge Regression - Mean Squared Error: {mse_ridge}\")\n",
    "print(f\"Ridge Regression - R^2 Score: {r2_ridge}\")"
   ]
  },
  {
   "cell_type": "markdown",
   "metadata": {},
   "source": [
    "##### Lasso Regression"
   ]
  },
  {
   "cell_type": "code",
   "execution_count": 78,
   "metadata": {},
   "outputs": [
    {
     "name": "stdout",
     "output_type": "stream",
     "text": [
      "Lasso Regression - Mean Absolute Error: 183445.61099210306\n",
      "Lasso Regression - Mean Squared Error: 185561375374.97638\n",
      "Lasso Regression - R^2 Score: 0.43903613452849855\n"
     ]
    }
   ],
   "source": [
    "from sklearn.linear_model import Lasso\n",
    "\n",
    "# Initialize the model\n",
    "lasso_reg = Lasso(alpha=0.1)\n",
    "\n",
    "# Create a pipeline\n",
    "pipeline_lasso = Pipeline(steps=[('preprocessor', preprocessor),\n",
    "                                 ('model', lasso_reg)])\n",
    "\n",
    "# Fit the model\n",
    "pipeline_lasso.fit(X_train, y_train)\n",
    "\n",
    "# Predict on the test set\n",
    "y_pred_lasso = pipeline_lasso.predict(X_test)\n",
    "\n",
    "# Evaluate the model\n",
    "mae_lasso = mean_absolute_error(y_test, y_pred_lasso)\n",
    "mse_lasso = mean_squared_error(y_test, y_pred_lasso)\n",
    "r2_lasso = r2_score(y_test, y_pred_lasso)\n",
    "\n",
    "print(f\"Lasso Regression - Mean Absolute Error: {mae_lasso}\")\n",
    "print(f\"Lasso Regression - Mean Squared Error: {mse_lasso}\")\n",
    "print(f\"Lasso Regression - R^2 Score: {r2_lasso}\")"
   ]
  },
  {
   "cell_type": "markdown",
   "metadata": {},
   "source": [
    "##### XBBoost Regression"
   ]
  },
  {
   "cell_type": "code",
   "execution_count": 79,
   "metadata": {},
   "outputs": [
    {
     "name": "stdout",
     "output_type": "stream",
     "text": [
      "XGBoost Regressor - Mean Absolute Error: 30427.510386995047\n",
      "XGBoost Regressor - Mean Squared Error: 2315249634.9151754\n",
      "XGBoost Regressor - R^2 Score: 0.9930008527792544\n"
     ]
    }
   ],
   "source": [
    "import xgboost as xgb\n",
    "\n",
    "# Initialize the model\n",
    "xgb_reg = xgb.XGBRegressor(\n",
    "    objective='reg:squarederror', n_estimators=100, random_state=42)\n",
    "\n",
    "# Create a pipeline\n",
    "pipeline_xgb = Pipeline(steps=[('preprocessor', preprocessor),\n",
    "                               ('model', xgb_reg)])\n",
    "\n",
    "# Fit the model\n",
    "pipeline_xgb.fit(X_train, y_train)\n",
    "\n",
    "# Predict on the test set\n",
    "y_pred_xgb = pipeline_xgb.predict(X_test)\n",
    "\n",
    "# Evaluate the model\n",
    "mae_xgb = mean_absolute_error(y_test, y_pred_xgb)\n",
    "mse_xgb = mean_squared_error(y_test, y_pred_xgb)\n",
    "r2_xgb = r2_score(y_test, y_pred_xgb)\n",
    "\n",
    "print(f\"XGBoost Regressor - Mean Absolute Error: {mae_xgb}\")\n",
    "print(f\"XGBoost Regressor - Mean Squared Error: {mse_xgb}\")\n",
    "print(f\"XGBoost Regressor - R^2 Score: {r2_xgb}\")"
   ]
  },
  {
   "cell_type": "markdown",
   "metadata": {},
   "source": [
    "Consider what metrics you want to use to evaluate success.\n",
    "- If you think about mean squared error, can we actually relate to the amount of error?\n",
    "- Try root mean squared error so that error is closer to the original units (dollars)\n",
    "- What does RMSE do to outliers?\n",
    "- Is mean absolute error a good metric for this problem?\n",
    "- What about R^2? Adjusted R^2?\n",
    "- Briefly describe your reasons for picking the metrics you use"
   ]
  },
  {
   "cell_type": "code",
   "execution_count": 80,
   "metadata": {},
   "outputs": [],
   "source": [
    "# gather evaluation metrics and compare results"
   ]
  },
  {
   "cell_type": "markdown",
   "metadata": {},
   "source": [
    "Based on the evaluation metrics, the **XGBoost Regressor** performs the best among the models evaluated. See data below for each along with conclusion.\n",
    "\n",
    "##### Ridge Regression\n",
    "- **Mean Absolute Error (MAE)**: 183,560.24\n",
    "- **Mean Squared Error (MSE)**: 185,582,330,054.32\n",
    "- **R^2 Score**: 0.43897\n",
    "\n",
    "##### Lasso Regression\n",
    "- **Mean Absolute Error (MAE)**: 183,445.61\n",
    "- **Mean Squared Error (MSE)**: 185,561,375,374.98\n",
    "- **R^2 Score**: 0.43904\n",
    "\n",
    "##### XGBoost Regressor\n",
    "- **Mean Absolute Error (MAE)**: 30,427.51\n",
    "- **Mean Squared Error (MSE)**: 2,315,249,634.92\n",
    "- **R^2 Score**: 0.99300\n",
    "\n",
    "##### Our Thoughts:\n",
    "- **Mean Absolute Error (MAE)**: Lower is better. XGBoost has the lowest MAE by a large margin, indicating it has the smallest average error between the predicted and actual prices.\n",
    "- **Mean Squared Error (MSE)**: Lower is better. XGBoost also has the lowest MSE, indicating it has smaller squared errors, which reduces the impact of large errors.\n",
    "- **R^2 Score**: Higher is better. XGBoost has an R^2 score of 0.993, which is much closer to 1 compared to the other models, indicating it explains 99.3% of the variance in the price data, making it a much better fit.\n",
    "##### Conclusion:\n",
    "**XGBoost Regressor** clearly outperforms Ridge and Lasso Regression models based on all three evaluation metrics (MAE, MSE, and R^2 Score). Thus, the XGBoost Regressor is the best performing model for predicting house prices using the given data."
   ]
  },
  {
   "cell_type": "markdown",
   "metadata": {},
   "source": [
    "**STRETCH**\n",
    "\n",
    "Even with all the preprocessing we did in Notebook 1, you probably still have a lot of features. Are they all important for prediction?\n",
    "\n",
    "Investigate some feature selection algorithms (Lasso, RFE, Forward/Backward Selection)\n",
    "- Perform feature selection to get a reduced subset of your original features\n",
    "- Refit your models with this reduced dimensionality - how does performance change on your chosen metrics?\n",
    "- Based on this, should you include feature selection in your final pipeline? Explain\n",
    "\n",
    "Remember, feature selection often doesn't directly improve performance, but if performance remains the same, a simpler model is often preferrable. \n",
    "\n"
   ]
  },
  {
   "cell_type": "code",
   "execution_count": 81,
   "metadata": {},
   "outputs": [],
   "source": [
    "# perform feature selection \n",
    "# refit models\n",
    "# gather evaluation metrics and compare to the previous step (full feature set)"
   ]
  },
  {
   "cell_type": "markdown",
   "metadata": {},
   "source": []
  }
 ],
 "metadata": {
  "kernelspec": {
   "display_name": "Python 3 (ipykernel)",
   "language": "python",
   "name": "python3"
  },
  "language_info": {
   "codemirror_mode": {
    "name": "ipython",
    "version": 3
   },
   "file_extension": ".py",
   "mimetype": "text/x-python",
   "name": "python",
   "nbconvert_exporter": "python",
   "pygments_lexer": "ipython3",
   "version": "3.10.13"
  }
 },
 "nbformat": 4,
 "nbformat_minor": 4
}
