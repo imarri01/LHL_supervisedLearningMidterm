{
 "cells": [
  {
   "cell_type": "markdown",
   "metadata": {},
   "source": [
    "***Imports***"
   ]
  },
  {
   "cell_type": "code",
   "execution_count": 26,
   "metadata": {},
   "outputs": [],
   "source": [
    "import pandas as pd\n",
    "import warnings\n",
    "\n",
    "from sklearn.linear_model import LinearRegression\n",
    "from sklearn.tree import DecisionTreeRegressor\n",
    "from sklearn.ensemble import RandomForestRegressor\n",
    "from sklearn.neighbors import KNeighborsRegressor\n",
    "from sklearn.ensemble import GradientBoostingRegressor\n",
    "from sklearn.ensemble import AdaBoostRegressor\n",
    "from sklearn.linear_model import ElasticNet\n",
    "from sklearn.linear_model import Ridge\n",
    "from sklearn.linear_model import Lasso\n",
    "from sklearn.svm import SVR\n",
    "import xgboost as xgb\n",
    "\n",
    "from sklearn.model_selection import train_test_split\n",
    "\n",
    "from sklearn.metrics import r2_score\n",
    "from sklearn.metrics import mean_squared_error\n",
    "from sklearn.metrics import mean_absolute_error\n",
    "\n",
    "from sklearn.preprocessing import OneHotEncoder, StandardScaler\n",
    "from sklearn.compose import ColumnTransformer\n",
    "from sklearn.pipeline import Pipeline\n",
    "from sklearn.impute import SimpleImputer\n",
    "\n",
    "from sklearn.feature_selection import RFE\n",
    "from sklearn.model_selection import GridSearchCV\n",
    "\n",
    "# Disable all warnings\n",
    "warnings.filterwarnings('ignore')\n",
    "\n"
   ]
  },
  {
   "cell_type": "markdown",
   "metadata": {},
   "source": [
    "# **One Hot Encoding**"
   ]
  },
  {
   "cell_type": "code",
   "execution_count": 27,
   "metadata": {},
   "outputs": [],
   "source": [
    "df_final = pd.read_csv('../data/processed/df_final_processed_no_bins.csv')"
   ]
  },
  {
   "cell_type": "code",
   "execution_count": 28,
   "metadata": {},
   "outputs": [],
   "source": [
    "df_final_ohe = pd.get_dummies(df_final, columns=['type', 'city'])\n",
    "\n",
    "\n",
    "# Converting column datatypes into integers\n",
    "\n",
    "df_final_ohe['is_foreclosure'] = df_final_ohe['is_foreclosure'].astype(int)\n",
    "city_type_columns = df_final_ohe.filter(regex='^(city_|type_)').columns\n",
    "df_final_ohe[city_type_columns] = df_final_ohe[city_type_columns].astype(int)"
   ]
  },
  {
   "cell_type": "code",
   "execution_count": 29,
   "metadata": {},
   "outputs": [],
   "source": [
    "df_final_ohe.to_csv('../data/processed/df_final_processed_OHE.csv', index=False)"
   ]
  },
  {
   "cell_type": "markdown",
   "metadata": {},
   "source": [
    "# **Model Selection**"
   ]
  },
  {
   "cell_type": "markdown",
   "metadata": {},
   "source": [
    "***Train Test Split***"
   ]
  },
  {
   "cell_type": "code",
   "execution_count": 30,
   "metadata": {},
   "outputs": [],
   "source": [
    "X = df_final_ohe.drop('price', axis=1)\n",
    "y = df_final_ohe['price']\n",
    "\n",
    "X_train, X_test, y_train, y_test = train_test_split(X, y, test_size=0.2, random_state=42)"
   ]
  },
  {
   "cell_type": "code",
   "execution_count": 31,
   "metadata": {},
   "outputs": [],
   "source": [
    "# Exporting test/training data into CSV\n",
    "\n",
    "X_train.to_csv('../data/training/X_train_v2_ohe.csv', index=False)\n",
    "X_test.to_csv('../data/testing/X_test_v2_ohe.csv', index=False)\n",
    "y_train.to_csv('../data/training/y_train_v2_ohe.csv', index=False)\n",
    "y_test.to_csv('../data/testing/y_test_v2_ohe.csv', index=False)"
   ]
  },
  {
   "cell_type": "code",
   "execution_count": 32,
   "metadata": {},
   "outputs": [],
   "source": [
    "models = {\n",
    "    'Linear Regression': LinearRegression(),\n",
    "    'Support Vector Machine': SVR(),\n",
    "    'Random Forest': RandomForestRegressor(random_state=42),\n",
    "    'XGBoost': xgb.XGBRegressor(),\n",
    "    'Decision Tree': DecisionTreeRegressor(random_state=42),\n",
    "    'K-Nearest Neighbors': KNeighborsRegressor(),\n",
    "    'Gradient Boosting': GradientBoostingRegressor(random_state=42),\n",
    "    'AdaBoost': AdaBoostRegressor(random_state=42),\n",
    "    'Ridge Regression': Ridge(random_state=42),\n",
    "    'Lasso Regression': Lasso(random_state=42),\n",
    "    'ElasticNet Regression': ElasticNet(random_state=42)\n",
    "}"
   ]
  },
  {
   "cell_type": "code",
   "execution_count": 34,
   "metadata": {},
   "outputs": [
    {
     "name": "stdout",
     "output_type": "stream",
     "text": [
      "Linear Regression Performance:\n",
      "Mean Squared Error: 185504913290.16754\n",
      "Mean Absolute Error: 183278.2075664464\n",
      "R^2 Score: 0.4392068230097783\n",
      "\n",
      "Support Vector Machine Performance:\n",
      "Mean Squared Error: 346285720808.7064\n",
      "Mean Absolute Error: 220627.45328381535\n",
      "R^2 Score: -0.04684380631419338\n",
      "\n",
      "Random Forest Performance:\n",
      "Mean Squared Error: 1160219013.535166\n",
      "Mean Absolute Error: 11767.488193624557\n",
      "R^2 Score: 0.9964925839695302\n",
      "\n",
      "XGBoost Performance:\n",
      "Mean Squared Error: 2504522904.0866137\n",
      "Mean Absolute Error: 30133.225119850853\n",
      "R^2 Score: 0.9924286603927612\n",
      "\n",
      "Decision Tree Performance:\n",
      "Mean Squared Error: 413223140.4958678\n",
      "Mean Absolute Error: 2066.115702479339\n",
      "R^2 Score: 0.9987508001073693\n",
      "\n",
      "K-Nearest Neighbors Performance:\n",
      "Mean Squared Error: 26662809917.355373\n",
      "Mean Absolute Error: 70867.76859504133\n",
      "R^2 Score: 0.9193966261278933\n",
      "\n",
      "Gradient Boosting Performance:\n",
      "Mean Squared Error: 24850275668.066753\n",
      "Mean Absolute Error: 105168.107779518\n",
      "R^2 Score: 0.9248760326947275\n",
      "\n",
      "AdaBoost Performance:\n",
      "Mean Squared Error: 92525334363.78273\n",
      "Mean Absolute Error: 256593.84862518223\n",
      "R^2 Score: 0.7202900166380741\n",
      "\n",
      "Ridge Regression Performance:\n",
      "Mean Squared Error: 185530659977.92084\n",
      "Mean Absolute Error: 183475.82525579628\n",
      "R^2 Score: 0.4391289891316019\n",
      "\n",
      "Lasso Regression Performance:\n",
      "Mean Squared Error: 185503888825.0026\n",
      "Mean Absolute Error: 183296.19630476693\n",
      "R^2 Score: 0.43920992003327164\n",
      "\n",
      "ElasticNet Regression Performance:\n",
      "Mean Squared Error: 234388902656.7509\n",
      "Mean Absolute Error: 189973.0708570013\n",
      "R^2 Score: 0.2914274072809794\n",
      "\n"
     ]
    }
   ],
   "source": [
    "def evaluate_model(name, model, X_train, X_test, y_train, y_test):\n",
    "    model.fit(X_train, y_train)\n",
    "    y_pred = model.predict(X_test)\n",
    "\n",
    "    mse = mean_squared_error(y_test, y_pred)\n",
    "    mae = mean_absolute_error(y_test, y_pred)\n",
    "    r2 = r2_score(y_test, y_pred)\n",
    "\n",
    "    print(f'{name} Performance:')\n",
    "    print(f'Mean Squared Error: {mse}')\n",
    "    print(f'Mean Absolute Error: {mae}')\n",
    "    print(f'R^2 Score: {r2}')\n",
    "    print('')\n",
    "\n",
    "\n",
    "# Evaluate each model\n",
    "\n",
    "for name, model in models.items():\n",
    "    evaluate_model(name, model, X_train, X_test, y_train, y_test)"
   ]
  },
  {
   "cell_type": "code",
   "execution_count": 35,
   "metadata": {},
   "outputs": [
    {
     "name": "stdout",
     "output_type": "stream",
     "text": [
      "Linear Regression Performance:\n",
      "Mean Squared Error: 178303546867.79648\n",
      "Mean Absolute Error: 172670.28044776473\n",
      "R^2 Score: 0.464220676338149\n",
      "\n",
      "Support Vector Machine Performance:\n",
      "Mean Squared Error: 352700638692.63055\n",
      "Mean Absolute Error: 225903.08391167206\n",
      "R^2 Score: -0.059820250204851044\n",
      "\n",
      "Random Forest Performance:\n",
      "Mean Squared Error: 302116962.93060225\n",
      "Mean Absolute Error: 4568.789221114803\n",
      "R^2 Score: 0.9990921772173957\n",
      "\n",
      "XGBoost Performance:\n",
      "Mean Squared Error: 1203621478.817942\n",
      "Mean Absolute Error: 24794.90871416432\n",
      "R^2 Score: 0.9963832497596741\n",
      "\n",
      "Decision Tree Performance:\n",
      "Mean Squared Error: 25839793.281653747\n",
      "Mean Absolute Error: 258.3979328165375\n",
      "R^2 Score: 0.9999223547303954\n",
      "\n",
      "K-Nearest Neighbors Performance:\n",
      "Mean Squared Error: 13967958656.33075\n",
      "Mean Absolute Error: 34945.73643410853\n",
      "R^2 Score: 0.9580280730625375\n",
      "\n",
      "Gradient Boosting Performance:\n",
      "Mean Squared Error: 23725681106.220478\n",
      "Mean Absolute Error: 100084.75473600383\n",
      "R^2 Score: 0.9287073667360487\n",
      "\n",
      "AdaBoost Performance:\n",
      "Mean Squared Error: 83493390684.85762\n",
      "Mean Absolute Error: 242497.4456126215\n",
      "R^2 Score: 0.7491130536817877\n",
      "\n",
      "Ridge Regression Performance:\n",
      "Mean Squared Error: 178335616672.95312\n",
      "Mean Absolute Error: 172830.1920444246\n",
      "R^2 Score: 0.4641243106807147\n",
      "\n",
      "Lasso Regression Performance:\n",
      "Mean Squared Error: 178303584525.37424\n",
      "Mean Absolute Error: 172678.12371016695\n",
      "R^2 Score: 0.4642205631819506\n",
      "\n",
      "ElasticNet Regression Performance:\n",
      "Mean Squared Error: 222272201589.55762\n",
      "Mean Absolute Error: 181085.8388436224\n",
      "R^2 Score: 0.3321004998022701\n",
      "\n"
     ]
    }
   ],
   "source": [
    "''' #  Using Train data to do predictions\n",
    "def evaluate_model(name, model, X_train, y_train):\n",
    "    model.fit(X_train, y_train)\n",
    "    y_pred = model.predict(X_train)\n",
    "\n",
    "    mse = mean_squared_error(y_train, y_pred)\n",
    "    mae = mean_absolute_error(y_train, y_pred)\n",
    "    r2 = r2_score(y_train, y_pred)\n",
    "\n",
    "    print(f'{name} Performance:')\n",
    "    print(f'Mean Squared Error: {mse}')\n",
    "    print(f'Mean Absolute Error: {mae}')\n",
    "    print(f'R^2 Score: {r2}')\n",
    "    print('')\n",
    "\n",
    "\n",
    "# Evaluate each model\n",
    "\n",
    "for name, model in models.items():\n",
    "    evaluate_model(name, model, X_train, y_train)\n",
    "'''"
   ]
  },
  {
   "cell_type": "markdown",
   "metadata": {},
   "source": [
    "### **Model Performance Comparison**\n",
    "\n",
    "Based on the performance metrics selected, the **Decision Tree Regressor** performed the best across all the models. See details results and comparison below, along with summary and next steps for Part 3 of the project:\n",
    "\n",
    "##### ***Best Performing Model: Decision Tree Regressor***\n",
    "- **Mean Squared Error (MSE)**: 413,223,140.50\n",
    "- **Mean Absolute Error (MAE)**: 2,066.12\n",
    "- **R² Score**: 0.9989\n",
    "\n",
    "##### ***Comparison with Other Models***\n",
    "\n",
    "| Model                         | Mean Squared Error (MSE)  | Mean Absolute Error (MAE)  | R² Score  |\n",
    "|-------------------------------|---------------------------|----------------------------|-----------|\n",
    "| **Decision Tree**             | 413,223,140.50            | 2,066.12                   | 0.9989    |\n",
    "| **Random Forest**             | 1,160,219,013.54          | 11,767.49                  | 0.9965    |\n",
    "| **XGBoost**                   | 2,504,522,904.09          | 30,133.23                  | 0.9924    |\n",
    "| **Linear Regression**         | 185,504,913,290.17        | 183,278.21                 | 0.4392    |\n",
    "| **Support Vector Machine**    | 346,285,720,808.71        | 220,627.45                 | -0.0468   |\n",
    "| **K-Nearest Neighbors**       | 26,662,809,917.36         | 70,867.77                  | 0.9194    |\n",
    "| **Gradient Boosting**         | 24,850,275,668.07         | 105,168.11                 | 0.9249    |\n",
    "| **AdaBoost**                  | 92,525,334,363.78         | 256,593.85                 | 0.7203    |\n",
    "| **Ridge Regression**          | 185,530,659,977.92        | 183,475.83                 | 0.4391    |\n",
    "| **Lasso Regression**          | 185,503,888,825.00        | 183,296.20                 | 0.4392    |\n",
    "| **ElasticNet Regression**     | 234,388,902,656.75        | 189,973.07                 | 0.2914    |\n",
    "\n",
    "##### ***Summary***\n",
    "\n",
    "The **Decision Tree Regressor** achieved the best performance in terms of Mean Squared Error, Mean Absolute Error, and R² Score, indicating that it is the most accurate model among those tested for this particular dataset.\n",
    "\n",
    "The **Random Forest Regressor** also performed very well, closely following the Decision Tree Regressor. The other models, especially the simpler linear models (Linear Regression, Ridge, Lasso, and ElasticNet), did not perform as well, which might suggest that the dataset benefits from more complex, non-linear models.\n",
    "\n",
    "Based on these results, you might consider focusing on the Decision Tree and Random Forest models for further tuning and optimization."
   ]
  },
  {
   "cell_type": "markdown",
   "metadata": {},
   "source": [
    "# **Next Steps for Part 3**\n",
    "\n",
    "Based on these results, we'll focusing on the Decision Tree and Random Forest models for further tuning and optimization."
   ]
  }
 ],
 "metadata": {
  "kernelspec": {
   "display_name": "base",
   "language": "python",
   "name": "python3"
  },
  "language_info": {
   "codemirror_mode": {
    "name": "ipython",
    "version": 3
   },
   "file_extension": ".py",
   "mimetype": "text/x-python",
   "name": "python",
   "nbconvert_exporter": "python",
   "pygments_lexer": "ipython3",
   "version": "3.10.13"
  }
 },
 "nbformat": 4,
 "nbformat_minor": 2
}
